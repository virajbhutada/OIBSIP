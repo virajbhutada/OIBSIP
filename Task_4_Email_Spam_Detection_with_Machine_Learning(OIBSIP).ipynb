{
  "nbformat": 4,
  "nbformat_minor": 0,
  "metadata": {
    "colab": {
      "provenance": [],
      "authorship_tag": "ABX9TyO4LyTqundl6sK6k/YFEoG+",
      "include_colab_link": true
    },
    "kernelspec": {
      "name": "python3",
      "display_name": "Python 3"
    },
    "language_info": {
      "name": "python"
    }
  },
  "cells": [
    {
      "cell_type": "markdown",
      "metadata": {
        "id": "view-in-github",
        "colab_type": "text"
      },
      "source": [
        "<a href=\"https://colab.research.google.com/github/virajbhutada/OIBSIP/blob/main/Task_4_Email_Spam_Detection_with_Machine_Learning(OIBSIP).ipynb\" target=\"_parent\"><img src=\"https://colab.research.google.com/assets/colab-badge.svg\" alt=\"Open In Colab\"/></a>"
      ]
    },
    {
      "cell_type": "markdown",
      "source": [
        "# Data Science Intern @Oasis Infobyte\n",
        "# Author: Viraj N. Bhutada\n",
        "# Task 4: Email Spam Detection with Machine Learning\n",
        "\n",
        "We’ve all been the recipient of spam emails before. Spam mail, or junk mail, is a type of email\n",
        "that is sent to a massive number of users at one time, frequently containing cryptic\n",
        "messages, scams, or most dangerously, phishing content. In this Project, use Python to build an email spam detector. Then, use machine learning to\n",
        "train the spam detector to recognize and classify emails into spam and non-spam.\n",
        "\n",
        "#Description\n",
        "\n",
        "In this project, we employ machine learning techniques, specifically Multinomial Naive Bayes and Logistic Regression algorithms, to create a powerful email spam detector. Using Python, we develop a sophisticated system capable of discerning between authentic emails and spam. By leveraging these advanced algorithms, we enhance email security and combat the influx of unwanted messages, ensuring a safer and more streamlined communication experience."
      ],
      "metadata": {
        "id": "3whM9bOvyBnm"
      }
    },
    {
      "cell_type": "markdown",
      "source": [
        "# Importing required libraries"
      ],
      "metadata": {
        "id": "9yzo6WSR1x9x"
      }
    },
    {
      "cell_type": "code",
      "execution_count": 1,
      "metadata": {
        "id": "J64AZCuxl8Cq"
      },
      "outputs": [],
      "source": [
        "import numpy as np\n",
        "import pandas as pd\n",
        "import seaborn as sns\n",
        "import matplotlib.pyplot as plt"
      ]
    },
    {
      "cell_type": "markdown",
      "source": [
        "# Uploading and Exploring the Dataset"
      ],
      "metadata": {
        "id": "C8ha-vKf17dD"
      }
    },
    {
      "cell_type": "code",
      "source": [
        "\n",
        "from google.colab import files\n",
        "uploaded = files.upload()"
      ],
      "metadata": {
        "colab": {
          "base_uri": "https://localhost:8080/",
          "height": 73
        },
        "id": "kqf8PICjnAHu",
        "outputId": "d974f907-c3e0-4997-e59d-f5acefcc2ce4"
      },
      "execution_count": 5,
      "outputs": [
        {
          "output_type": "display_data",
          "data": {
            "text/plain": [
              "<IPython.core.display.HTML object>"
            ],
            "text/html": [
              "\n",
              "     <input type=\"file\" id=\"files-e9259e02-eda9-4e93-8482-62000648f4c4\" name=\"files[]\" multiple disabled\n",
              "        style=\"border:none\" />\n",
              "     <output id=\"result-e9259e02-eda9-4e93-8482-62000648f4c4\">\n",
              "      Upload widget is only available when the cell has been executed in the\n",
              "      current browser session. Please rerun this cell to enable.\n",
              "      </output>\n",
              "      <script>// Copyright 2017 Google LLC\n",
              "//\n",
              "// Licensed under the Apache License, Version 2.0 (the \"License\");\n",
              "// you may not use this file except in compliance with the License.\n",
              "// You may obtain a copy of the License at\n",
              "//\n",
              "//      http://www.apache.org/licenses/LICENSE-2.0\n",
              "//\n",
              "// Unless required by applicable law or agreed to in writing, software\n",
              "// distributed under the License is distributed on an \"AS IS\" BASIS,\n",
              "// WITHOUT WARRANTIES OR CONDITIONS OF ANY KIND, either express or implied.\n",
              "// See the License for the specific language governing permissions and\n",
              "// limitations under the License.\n",
              "\n",
              "/**\n",
              " * @fileoverview Helpers for google.colab Python module.\n",
              " */\n",
              "(function(scope) {\n",
              "function span(text, styleAttributes = {}) {\n",
              "  const element = document.createElement('span');\n",
              "  element.textContent = text;\n",
              "  for (const key of Object.keys(styleAttributes)) {\n",
              "    element.style[key] = styleAttributes[key];\n",
              "  }\n",
              "  return element;\n",
              "}\n",
              "\n",
              "// Max number of bytes which will be uploaded at a time.\n",
              "const MAX_PAYLOAD_SIZE = 100 * 1024;\n",
              "\n",
              "function _uploadFiles(inputId, outputId) {\n",
              "  const steps = uploadFilesStep(inputId, outputId);\n",
              "  const outputElement = document.getElementById(outputId);\n",
              "  // Cache steps on the outputElement to make it available for the next call\n",
              "  // to uploadFilesContinue from Python.\n",
              "  outputElement.steps = steps;\n",
              "\n",
              "  return _uploadFilesContinue(outputId);\n",
              "}\n",
              "\n",
              "// This is roughly an async generator (not supported in the browser yet),\n",
              "// where there are multiple asynchronous steps and the Python side is going\n",
              "// to poll for completion of each step.\n",
              "// This uses a Promise to block the python side on completion of each step,\n",
              "// then passes the result of the previous step as the input to the next step.\n",
              "function _uploadFilesContinue(outputId) {\n",
              "  const outputElement = document.getElementById(outputId);\n",
              "  const steps = outputElement.steps;\n",
              "\n",
              "  const next = steps.next(outputElement.lastPromiseValue);\n",
              "  return Promise.resolve(next.value.promise).then((value) => {\n",
              "    // Cache the last promise value to make it available to the next\n",
              "    // step of the generator.\n",
              "    outputElement.lastPromiseValue = value;\n",
              "    return next.value.response;\n",
              "  });\n",
              "}\n",
              "\n",
              "/**\n",
              " * Generator function which is called between each async step of the upload\n",
              " * process.\n",
              " * @param {string} inputId Element ID of the input file picker element.\n",
              " * @param {string} outputId Element ID of the output display.\n",
              " * @return {!Iterable<!Object>} Iterable of next steps.\n",
              " */\n",
              "function* uploadFilesStep(inputId, outputId) {\n",
              "  const inputElement = document.getElementById(inputId);\n",
              "  inputElement.disabled = false;\n",
              "\n",
              "  const outputElement = document.getElementById(outputId);\n",
              "  outputElement.innerHTML = '';\n",
              "\n",
              "  const pickedPromise = new Promise((resolve) => {\n",
              "    inputElement.addEventListener('change', (e) => {\n",
              "      resolve(e.target.files);\n",
              "    });\n",
              "  });\n",
              "\n",
              "  const cancel = document.createElement('button');\n",
              "  inputElement.parentElement.appendChild(cancel);\n",
              "  cancel.textContent = 'Cancel upload';\n",
              "  const cancelPromise = new Promise((resolve) => {\n",
              "    cancel.onclick = () => {\n",
              "      resolve(null);\n",
              "    };\n",
              "  });\n",
              "\n",
              "  // Wait for the user to pick the files.\n",
              "  const files = yield {\n",
              "    promise: Promise.race([pickedPromise, cancelPromise]),\n",
              "    response: {\n",
              "      action: 'starting',\n",
              "    }\n",
              "  };\n",
              "\n",
              "  cancel.remove();\n",
              "\n",
              "  // Disable the input element since further picks are not allowed.\n",
              "  inputElement.disabled = true;\n",
              "\n",
              "  if (!files) {\n",
              "    return {\n",
              "      response: {\n",
              "        action: 'complete',\n",
              "      }\n",
              "    };\n",
              "  }\n",
              "\n",
              "  for (const file of files) {\n",
              "    const li = document.createElement('li');\n",
              "    li.append(span(file.name, {fontWeight: 'bold'}));\n",
              "    li.append(span(\n",
              "        `(${file.type || 'n/a'}) - ${file.size} bytes, ` +\n",
              "        `last modified: ${\n",
              "            file.lastModifiedDate ? file.lastModifiedDate.toLocaleDateString() :\n",
              "                                    'n/a'} - `));\n",
              "    const percent = span('0% done');\n",
              "    li.appendChild(percent);\n",
              "\n",
              "    outputElement.appendChild(li);\n",
              "\n",
              "    const fileDataPromise = new Promise((resolve) => {\n",
              "      const reader = new FileReader();\n",
              "      reader.onload = (e) => {\n",
              "        resolve(e.target.result);\n",
              "      };\n",
              "      reader.readAsArrayBuffer(file);\n",
              "    });\n",
              "    // Wait for the data to be ready.\n",
              "    let fileData = yield {\n",
              "      promise: fileDataPromise,\n",
              "      response: {\n",
              "        action: 'continue',\n",
              "      }\n",
              "    };\n",
              "\n",
              "    // Use a chunked sending to avoid message size limits. See b/62115660.\n",
              "    let position = 0;\n",
              "    do {\n",
              "      const length = Math.min(fileData.byteLength - position, MAX_PAYLOAD_SIZE);\n",
              "      const chunk = new Uint8Array(fileData, position, length);\n",
              "      position += length;\n",
              "\n",
              "      const base64 = btoa(String.fromCharCode.apply(null, chunk));\n",
              "      yield {\n",
              "        response: {\n",
              "          action: 'append',\n",
              "          file: file.name,\n",
              "          data: base64,\n",
              "        },\n",
              "      };\n",
              "\n",
              "      let percentDone = fileData.byteLength === 0 ?\n",
              "          100 :\n",
              "          Math.round((position / fileData.byteLength) * 100);\n",
              "      percent.textContent = `${percentDone}% done`;\n",
              "\n",
              "    } while (position < fileData.byteLength);\n",
              "  }\n",
              "\n",
              "  // All done.\n",
              "  yield {\n",
              "    response: {\n",
              "      action: 'complete',\n",
              "    }\n",
              "  };\n",
              "}\n",
              "\n",
              "scope.google = scope.google || {};\n",
              "scope.google.colab = scope.google.colab || {};\n",
              "scope.google.colab._files = {\n",
              "  _uploadFiles,\n",
              "  _uploadFilesContinue,\n",
              "};\n",
              "})(self);\n",
              "</script> "
            ]
          },
          "metadata": {}
        },
        {
          "output_type": "stream",
          "name": "stdout",
          "text": [
            "Saving spam.csv to spam (1).csv\n"
          ]
        }
      ]
    },
    {
      "cell_type": "code",
      "source": [
        "# Reading the csv file\n",
        "df = pd.read_csv('spam.csv', encoding=\"latin-1\", usecols=[\"v1\",\"v2\"])\n",
        "df"
      ],
      "metadata": {
        "colab": {
          "base_uri": "https://localhost:8080/",
          "height": 693
        },
        "id": "OTnShFNIp3Z0",
        "outputId": "a2ba6dd0-fc16-48a0-9e17-6758fbbe015f"
      },
      "execution_count": 10,
      "outputs": [
        {
          "output_type": "execute_result",
          "data": {
            "text/plain": [
              "        v1                                                 v2\n",
              "0      ham  Go until jurong point, crazy.. Available only ...\n",
              "1      ham                      Ok lar... Joking wif u oni...\n",
              "2     spam  Free entry in 2 a wkly comp to win FA Cup fina...\n",
              "3      ham  U dun say so early hor... U c already then say...\n",
              "4      ham  Nah I don't think he goes to usf, he lives aro...\n",
              "...    ...                                                ...\n",
              "5567  spam  This is the 2nd time we have tried 2 contact u...\n",
              "5568   ham              Will Ì_ b going to esplanade fr home?\n",
              "5569   ham  Pity, * was in mood for that. So...any other s...\n",
              "5570   ham  The guy did some bitching but I acted like i'd...\n",
              "5571   ham                         Rofl. Its true to its name\n",
              "\n",
              "[5572 rows x 2 columns]"
            ],
            "text/html": [
              "\n",
              "  <div id=\"df-657d18dd-c011-47a0-9e8d-7a6d2b184bc3\" class=\"colab-df-container\">\n",
              "    <div>\n",
              "<style scoped>\n",
              "    .dataframe tbody tr th:only-of-type {\n",
              "        vertical-align: middle;\n",
              "    }\n",
              "\n",
              "    .dataframe tbody tr th {\n",
              "        vertical-align: top;\n",
              "    }\n",
              "\n",
              "    .dataframe thead th {\n",
              "        text-align: right;\n",
              "    }\n",
              "</style>\n",
              "<table border=\"1\" class=\"dataframe\">\n",
              "  <thead>\n",
              "    <tr style=\"text-align: right;\">\n",
              "      <th></th>\n",
              "      <th>v1</th>\n",
              "      <th>v2</th>\n",
              "    </tr>\n",
              "  </thead>\n",
              "  <tbody>\n",
              "    <tr>\n",
              "      <th>0</th>\n",
              "      <td>ham</td>\n",
              "      <td>Go until jurong point, crazy.. Available only ...</td>\n",
              "    </tr>\n",
              "    <tr>\n",
              "      <th>1</th>\n",
              "      <td>ham</td>\n",
              "      <td>Ok lar... Joking wif u oni...</td>\n",
              "    </tr>\n",
              "    <tr>\n",
              "      <th>2</th>\n",
              "      <td>spam</td>\n",
              "      <td>Free entry in 2 a wkly comp to win FA Cup fina...</td>\n",
              "    </tr>\n",
              "    <tr>\n",
              "      <th>3</th>\n",
              "      <td>ham</td>\n",
              "      <td>U dun say so early hor... U c already then say...</td>\n",
              "    </tr>\n",
              "    <tr>\n",
              "      <th>4</th>\n",
              "      <td>ham</td>\n",
              "      <td>Nah I don't think he goes to usf, he lives aro...</td>\n",
              "    </tr>\n",
              "    <tr>\n",
              "      <th>...</th>\n",
              "      <td>...</td>\n",
              "      <td>...</td>\n",
              "    </tr>\n",
              "    <tr>\n",
              "      <th>5567</th>\n",
              "      <td>spam</td>\n",
              "      <td>This is the 2nd time we have tried 2 contact u...</td>\n",
              "    </tr>\n",
              "    <tr>\n",
              "      <th>5568</th>\n",
              "      <td>ham</td>\n",
              "      <td>Will Ì_ b going to esplanade fr home?</td>\n",
              "    </tr>\n",
              "    <tr>\n",
              "      <th>5569</th>\n",
              "      <td>ham</td>\n",
              "      <td>Pity, * was in mood for that. So...any other s...</td>\n",
              "    </tr>\n",
              "    <tr>\n",
              "      <th>5570</th>\n",
              "      <td>ham</td>\n",
              "      <td>The guy did some bitching but I acted like i'd...</td>\n",
              "    </tr>\n",
              "    <tr>\n",
              "      <th>5571</th>\n",
              "      <td>ham</td>\n",
              "      <td>Rofl. Its true to its name</td>\n",
              "    </tr>\n",
              "  </tbody>\n",
              "</table>\n",
              "<p>5572 rows × 2 columns</p>\n",
              "</div>\n",
              "    <div class=\"colab-df-buttons\">\n",
              "\n",
              "  <div class=\"colab-df-container\">\n",
              "    <button class=\"colab-df-convert\" onclick=\"convertToInteractive('df-657d18dd-c011-47a0-9e8d-7a6d2b184bc3')\"\n",
              "            title=\"Convert this dataframe to an interactive table.\"\n",
              "            style=\"display:none;\">\n",
              "\n",
              "  <svg xmlns=\"http://www.w3.org/2000/svg\" height=\"24px\" viewBox=\"0 -960 960 960\">\n",
              "    <path d=\"M120-120v-720h720v720H120Zm60-500h600v-160H180v160Zm220 220h160v-160H400v160Zm0 220h160v-160H400v160ZM180-400h160v-160H180v160Zm440 0h160v-160H620v160ZM180-180h160v-160H180v160Zm440 0h160v-160H620v160Z\"/>\n",
              "  </svg>\n",
              "    </button>\n",
              "\n",
              "  <style>\n",
              "    .colab-df-container {\n",
              "      display:flex;\n",
              "      gap: 12px;\n",
              "    }\n",
              "\n",
              "    .colab-df-convert {\n",
              "      background-color: #E8F0FE;\n",
              "      border: none;\n",
              "      border-radius: 50%;\n",
              "      cursor: pointer;\n",
              "      display: none;\n",
              "      fill: #1967D2;\n",
              "      height: 32px;\n",
              "      padding: 0 0 0 0;\n",
              "      width: 32px;\n",
              "    }\n",
              "\n",
              "    .colab-df-convert:hover {\n",
              "      background-color: #E2EBFA;\n",
              "      box-shadow: 0px 1px 2px rgba(60, 64, 67, 0.3), 0px 1px 3px 1px rgba(60, 64, 67, 0.15);\n",
              "      fill: #174EA6;\n",
              "    }\n",
              "\n",
              "    .colab-df-buttons div {\n",
              "      margin-bottom: 4px;\n",
              "    }\n",
              "\n",
              "    [theme=dark] .colab-df-convert {\n",
              "      background-color: #3B4455;\n",
              "      fill: #D2E3FC;\n",
              "    }\n",
              "\n",
              "    [theme=dark] .colab-df-convert:hover {\n",
              "      background-color: #434B5C;\n",
              "      box-shadow: 0px 1px 3px 1px rgba(0, 0, 0, 0.15);\n",
              "      filter: drop-shadow(0px 1px 2px rgba(0, 0, 0, 0.3));\n",
              "      fill: #FFFFFF;\n",
              "    }\n",
              "  </style>\n",
              "\n",
              "    <script>\n",
              "      const buttonEl =\n",
              "        document.querySelector('#df-657d18dd-c011-47a0-9e8d-7a6d2b184bc3 button.colab-df-convert');\n",
              "      buttonEl.style.display =\n",
              "        google.colab.kernel.accessAllowed ? 'block' : 'none';\n",
              "\n",
              "      async function convertToInteractive(key) {\n",
              "        const element = document.querySelector('#df-657d18dd-c011-47a0-9e8d-7a6d2b184bc3');\n",
              "        const dataTable =\n",
              "          await google.colab.kernel.invokeFunction('convertToInteractive',\n",
              "                                                    [key], {});\n",
              "        if (!dataTable) return;\n",
              "\n",
              "        const docLinkHtml = 'Like what you see? Visit the ' +\n",
              "          '<a target=\"_blank\" href=https://colab.research.google.com/notebooks/data_table.ipynb>data table notebook</a>'\n",
              "          + ' to learn more about interactive tables.';\n",
              "        element.innerHTML = '';\n",
              "        dataTable['output_type'] = 'display_data';\n",
              "        await google.colab.output.renderOutput(dataTable, element);\n",
              "        const docLink = document.createElement('div');\n",
              "        docLink.innerHTML = docLinkHtml;\n",
              "        element.appendChild(docLink);\n",
              "      }\n",
              "    </script>\n",
              "  </div>\n",
              "\n",
              "\n",
              "<div id=\"df-82d109ea-28bb-48d5-b6cf-0793c50b5d8e\">\n",
              "  <button class=\"colab-df-quickchart\" onclick=\"quickchart('df-82d109ea-28bb-48d5-b6cf-0793c50b5d8e')\"\n",
              "            title=\"Suggest charts.\"\n",
              "            style=\"display:none;\">\n",
              "\n",
              "<svg xmlns=\"http://www.w3.org/2000/svg\" height=\"24px\"viewBox=\"0 0 24 24\"\n",
              "     width=\"24px\">\n",
              "    <g>\n",
              "        <path d=\"M19 3H5c-1.1 0-2 .9-2 2v14c0 1.1.9 2 2 2h14c1.1 0 2-.9 2-2V5c0-1.1-.9-2-2-2zM9 17H7v-7h2v7zm4 0h-2V7h2v10zm4 0h-2v-4h2v4z\"/>\n",
              "    </g>\n",
              "</svg>\n",
              "  </button>\n",
              "\n",
              "<style>\n",
              "  .colab-df-quickchart {\n",
              "      --bg-color: #E8F0FE;\n",
              "      --fill-color: #1967D2;\n",
              "      --hover-bg-color: #E2EBFA;\n",
              "      --hover-fill-color: #174EA6;\n",
              "      --disabled-fill-color: #AAA;\n",
              "      --disabled-bg-color: #DDD;\n",
              "  }\n",
              "\n",
              "  [theme=dark] .colab-df-quickchart {\n",
              "      --bg-color: #3B4455;\n",
              "      --fill-color: #D2E3FC;\n",
              "      --hover-bg-color: #434B5C;\n",
              "      --hover-fill-color: #FFFFFF;\n",
              "      --disabled-bg-color: #3B4455;\n",
              "      --disabled-fill-color: #666;\n",
              "  }\n",
              "\n",
              "  .colab-df-quickchart {\n",
              "    background-color: var(--bg-color);\n",
              "    border: none;\n",
              "    border-radius: 50%;\n",
              "    cursor: pointer;\n",
              "    display: none;\n",
              "    fill: var(--fill-color);\n",
              "    height: 32px;\n",
              "    padding: 0;\n",
              "    width: 32px;\n",
              "  }\n",
              "\n",
              "  .colab-df-quickchart:hover {\n",
              "    background-color: var(--hover-bg-color);\n",
              "    box-shadow: 0 1px 2px rgba(60, 64, 67, 0.3), 0 1px 3px 1px rgba(60, 64, 67, 0.15);\n",
              "    fill: var(--button-hover-fill-color);\n",
              "  }\n",
              "\n",
              "  .colab-df-quickchart-complete:disabled,\n",
              "  .colab-df-quickchart-complete:disabled:hover {\n",
              "    background-color: var(--disabled-bg-color);\n",
              "    fill: var(--disabled-fill-color);\n",
              "    box-shadow: none;\n",
              "  }\n",
              "\n",
              "  .colab-df-spinner {\n",
              "    border: 2px solid var(--fill-color);\n",
              "    border-color: transparent;\n",
              "    border-bottom-color: var(--fill-color);\n",
              "    animation:\n",
              "      spin 1s steps(1) infinite;\n",
              "  }\n",
              "\n",
              "  @keyframes spin {\n",
              "    0% {\n",
              "      border-color: transparent;\n",
              "      border-bottom-color: var(--fill-color);\n",
              "      border-left-color: var(--fill-color);\n",
              "    }\n",
              "    20% {\n",
              "      border-color: transparent;\n",
              "      border-left-color: var(--fill-color);\n",
              "      border-top-color: var(--fill-color);\n",
              "    }\n",
              "    30% {\n",
              "      border-color: transparent;\n",
              "      border-left-color: var(--fill-color);\n",
              "      border-top-color: var(--fill-color);\n",
              "      border-right-color: var(--fill-color);\n",
              "    }\n",
              "    40% {\n",
              "      border-color: transparent;\n",
              "      border-right-color: var(--fill-color);\n",
              "      border-top-color: var(--fill-color);\n",
              "    }\n",
              "    60% {\n",
              "      border-color: transparent;\n",
              "      border-right-color: var(--fill-color);\n",
              "    }\n",
              "    80% {\n",
              "      border-color: transparent;\n",
              "      border-right-color: var(--fill-color);\n",
              "      border-bottom-color: var(--fill-color);\n",
              "    }\n",
              "    90% {\n",
              "      border-color: transparent;\n",
              "      border-bottom-color: var(--fill-color);\n",
              "    }\n",
              "  }\n",
              "</style>\n",
              "\n",
              "  <script>\n",
              "    async function quickchart(key) {\n",
              "      const quickchartButtonEl =\n",
              "        document.querySelector('#' + key + ' button');\n",
              "      quickchartButtonEl.disabled = true;  // To prevent multiple clicks.\n",
              "      quickchartButtonEl.classList.add('colab-df-spinner');\n",
              "      try {\n",
              "        const charts = await google.colab.kernel.invokeFunction(\n",
              "            'suggestCharts', [key], {});\n",
              "      } catch (error) {\n",
              "        console.error('Error during call to suggestCharts:', error);\n",
              "      }\n",
              "      quickchartButtonEl.classList.remove('colab-df-spinner');\n",
              "      quickchartButtonEl.classList.add('colab-df-quickchart-complete');\n",
              "    }\n",
              "    (() => {\n",
              "      let quickchartButtonEl =\n",
              "        document.querySelector('#df-82d109ea-28bb-48d5-b6cf-0793c50b5d8e button');\n",
              "      quickchartButtonEl.style.display =\n",
              "        google.colab.kernel.accessAllowed ? 'block' : 'none';\n",
              "    })();\n",
              "  </script>\n",
              "</div>\n",
              "    </div>\n",
              "  </div>\n"
            ]
          },
          "metadata": {},
          "execution_count": 10
        },
        {
          "output_type": "display_data",
          "data": {
            "text/plain": [
              "<google.colab._quickchart_helpers.SectionTitle at 0x7edad38d3fd0>"
            ],
            "text/html": [
              "<h4 class=\"colab-quickchart-section-title\">Categorical distributions</h4>\n",
              "<style>\n",
              "  .colab-quickchart-section-title {\n",
              "      clear: both;\n",
              "  }\n",
              "</style>"
            ]
          },
          "metadata": {}
        },
        {
          "output_type": "display_data",
          "data": {
            "text/plain": [
              "import numpy as np\n",
              "from google.colab import autoviz\n",
              "\n",
              "def categorical_histogram(df, colname, figscale=1, mpl_palette_name='Dark2'):\n",
              "  from matplotlib import pyplot as plt\n",
              "  import seaborn as sns\n",
              "  df.groupby(colname).size().plot(kind='barh', color=sns.palettes.mpl_palette(mpl_palette_name), figsize=(8*figscale, 4.8*figscale))\n",
              "  plt.gca().spines[['top', 'right',]].set_visible(False)\n",
              "  return autoviz.MplChart.from_current_mpl_state()\n",
              "\n",
              "chart = categorical_histogram(df, *['v1'], **{})\n",
              "chart"
            ],
            "text/html": [
              "      <div class=\"colab-quickchart-chart-with-code\" id=\"chart-26fa69b8-2c60-4889-8c6d-a5b528e626ee\">\n",
              "        <img src=\"data:image/png;base64,iVBORw0KGgoAAAANSUhEUgAAAYcAAADgCAYAAADomKooAAAAOXRFWHRTb2Z0d2FyZQBNYXRwbG90\n",
              "bGliIHZlcnNpb24zLjcuMSwgaHR0cHM6Ly9tYXRwbG90bGliLm9yZy/bCgiHAAAACXBIWXMAAA9h\n",
              "AAAPYQGoP6dpAAANs0lEQVR4nO3dcUzV9b/H8de5qJCW6GwpSkAqNAU5KB5Sm5oXNbeW1W+V1i3J\n",
              "f9xypt6txqg2/ymppm7O1vqnoNoytdTV0ra2JF1bCqWhYqUlgk1yVxFzUxLO+/5xF5PfW72KHr7H\n",
              "c56P7Wzw/XI470+f8OmXL8OQmZkAALjEfwQ9AAAg/hAHAIBDHAAADnEAADjEAQDgEAcAgEMcAAAO\n",
              "cQAAOEkbh7Vr1wY9AgDEraSNw7Fjx4IeAQDiVtLGAQBwZcQBAOAQBwCAQxwAAA5xAAA4xAEA4BAH\n",
              "AIBDHAAADnEAADjEAQDgEAcAgEMcAAAOcQAAOMQBAOAQBwCAQxwAAA5xAAA4xAEA4BAHAIBDHAAA\n",
              "DnEAADjEAQDghMzMgh4iCAvzQ6qI3FptzKvuDHoEAEni1vrTEQDQK4gDAMAhDgAAhzgAABziAABw\n",
              "iAMAwCEOAACHOAAAHOIAAHCIAwDAIQ4AAIc4AAAc4gAAcIgDAMAhDgAAhzgAABziAABwiAMAwCEO\n",
              "AACHOAAAnJjF4fz585o3b57Gjh2rcDis2bNnq6amRgUFBVqwYIEKCgpUXFysffv2SZJaWlo0Y8YM\n",
              "FRcXKz8/X0uWLFE0GpUkVVdXa+bMmXrqqac0duxYTZkyRQ0NDXrsscc0ZswYzZ49W+fOnYvVUgAg\n",
              "6cQsDl999ZXOnDmjhoYG/fTTT/rkk08kSQcPHlRZWZkOHDig8vJyzZ8/X2amQYMG6YsvvtAPP/yg\n",
              "+vp6NTY2auPGjV2fr7a2Vm+++aYaGho0atQoPfzww3r33Xd16NAh9evXTx988MEVZ2lvb9fZs2e7\n",
              "PTqjsVo5ANz6YhaHcDisQ4cOafHixdqwYYP69u0rScrJyVFpaakk6cknn1RLS4uam5sVjUZVXl6u\n",
              "cDis8ePHq66uruuqQpImT56srKwsSdLEiRMViUQ0dOhQSVIkEtHhw4evOEtlZaXS09O7Per/J0YL\n",
              "B4AEELM4jBw5Ug0NDZozZ46+++47FRQUqLW11X1cKBRSKBTSmjVrdPLkSe3evVv19fV6+umndeHC\n",
              "ha6PS0tL63o7JSXFvd/R0XHFWSoqKtTW1tbtUXjnTVooACSgmMXh+PHjCoVCmjt3rlatWiUzU3Nz\n",
              "sxobG7Vjxw5J0qeffqqhQ4cqMzNTra2tGjZsmNLS0tTS0qJNmzbdtFlSU1M1cODAbo8UbsUDwBX1\n",
              "idUn3r9/vyoqKmRm6ujo0LPPPqvCwkLl5+erurpaS5cuVb9+/bR+/XqFQiEtW7ZMjz/+uPLz8zV8\n",
              "+HDNnDkzVqMBAP4fITOz3nqxmpoaLV++vNu9hKAszA+pInJrXT7kVXcGPQKAJHFr/ekIAOgVvRqH\n",
              "Bx54IC6uGgAAV8eVAwDAIQ4AAIc4AAAc4gAAcIgDAMAhDgAAhzgAABziAABwiAMAwCEOAACHOAAA\n",
              "HOIAAHCIAwDAIQ4AAIc4AAAc4gAAcGL2b0jHu8EP/rfy1qwJegwAiEtcOQAAHOIAAHCIAwDAIQ4A\n",
              "AIc4AAAc4gAAcIgDAMAhDgAAhzgAABziAABwiAMAwCEOAACHOAAAHOIAAHCIAwDAIQ4AAIc4AAAc\n",
              "4gAAcG44Dq+88srNmAMAEEduOA4fffTRzZgDABBH+lzLB02YMOGyx81MJ0+evKkDAQCCd01x+P33\n",
              "37V+/Xr179+/23Ez07x582IyGAAgONcUh/Hjxys9PV1Tpkxx5/r163fThwIABOua4lBdXa2BAwfq\n",
              "1KlTGjJkSLdzv/76a0wGAwAE55puSGdnZ2vw4MHKy8vTE088oW3btikajUqSbrvttpgOCADofdf1\n",
              "00pNTU166KGH9NZbbyk7O1sVFRVcOQBAArquOAwYMEDPPfecampqtHPnTp06dUpjxoyJ1WwAgIBc\n",
              "0z2HS128eFGff/653n//fdXW1ur555+PxVwAgABdVxxeeOEFbdq0SePHj9fChQu1ZcsWfloJABLQ\n",
              "dcUhIyNDdXV1yszMjNU8AIA4cF1xePnll2M1BwAgjvBbWQEADnEAADjEAQDgEAcAgEMcAAAOcQAA\n",
              "OMQBAOAQBwCAQxwAAA5xAAA4xAEA4BAHAIBDHAAADnEAADghM7OghwjC7Q9GNGh+adBjAEA3xxe+\n",
              "EfQIkrhyAABcBnEAADjEAQDgEAcAgEMcAAAOcQAAOMQBAOAQBwCAQxwAAA5xAAA4xAEA4BAHAIBD\n",
              "HAAADnEAADjEAQDgEAcAgEMcAAAOcQAAOMQBAOD0ehxCoZDOnDnT2y8LALgOXDkAAJxA4vDOO++o\n",
              "pKRE99xzj6qqqrqOv/jii4pEIioqKtK0adP0yy+/dJ0LhUJ6/fXXdd999yknJ0dbt25VZWWlJk6c\n",
              "qNzcXNXU1Fzx9drb23X27NluD3VaLJcIALe0QOKQmpqqPXv2aPv27Vq6dKk6OjokSeXl5aqtrdW+\n",
              "ffu0ePFiLVu2rNvzbr/9du3evVvvvfeennnmGWVkZKiurk4rV67USy+9dMXXq6ysVHp6erfH30dP\n",
              "xHSNAHArC5lZr/4VOhQK6cSJExo2bJgkafDgwdq/f78yMzP18ccfa926dfrrr78UjUZ1+vRptbS0\n",
              "uOe1tbVp0KBBOn/+vNLS0nTs2DGFw+Er3stob29Xe3t7t2PD//WfGvRfM2O6VgC4XscXvhH0CJKk\n",
              "PkG8aFpaWtfbKSkp6ujoUFNTk5YsWaLa2lqNGjVK9fX1mjZt2mWfl5KS4t7/5+rjclJTU5Wamtr9\n",
              "YEroZiwFABJS3NyQbmtrU9++fZWRkSEz09tvvx30SACQtOImDuPGjdP8+fOVn5+vSCSirKysoEcC\n",
              "gKTV6/cc4sXtD0Y0aH5p0GMAQDfxcs8hbq4cAADxgzgAABziAABwiAMAwCEOAACHOAAAHOIAAHCI\n",
              "AwDAIQ4AAIc4AAAc4gAAcIgDAMAhDgAAhzgAABziAABwiAMAwCEOAACnT9ADBGVR/lStiZN/cQkA\n",
              "4g1XDgAAhzgAABziAABwiAMAwCEOAACHOAAAHOIAAHCIAwDAIQ4AAIc4AAAc4gAAcIgDAMAhDgAA\n",
              "hzgAABziAABwiAMAwCEOAACHOAAAHOIAAHCIAwDAIQ4AAIc4AACcPkEPEIT29nZt375dnZ2dSklJ\n",
              "CXqcXtHZ2ak9e/aopKSENScw1pwca5Yuv+7s7GwtW7bspnz+kJnZTflMt5CzZ88qPT1dbW1tGjhw\n",
              "YNDj9ArWzJoTVTKuWYr9uvm2EgDAIQ4AAIc4AACcpIxDamqqVqxYodTU1KBH6TWsOTmw5uQR63Un\n",
              "5Q1pAMDVJeWVAwDg6ogDAMAhDgAAhzgAAJyki8Phw4c1ZcoU5eXlKRKJ6ODBg0GP1CNLly5VTk6O\n",
              "QqGQ9u3b13X8auvr6bl4ceHCBT366KPKy8tTOBzWrFmzdOTIEUnSyZMnNWfOHOXm5qqgoEA7d+7s\n",
              "el5Pz8WL2bNnq7CwUEVFRZo6dar27t0rKbH3+h9VVVUKhULaunWrpMTe55ycHN17770qKipSUVGR\n",
              "NmzYICnAfbYkM2PGDKuqqjIzs02bNtnEiRODHaiHvv32W2tubrbs7Gzbu3dv1/Grra+n5+LF+fPn\n",
              "7csvv7RoNGpmZuvWrbPp06ebmdnChQttxYoVZma2Z88eGzFihP399983dC5etLa2dr29efNmKyws\n",
              "NLPE3mszs6NHj9rkyZNt0qRJtmXLFjNL7H3+96/lfwS1z0kVhz///NPuuOMOu3jxopmZRaNRGzp0\n",
              "qB0+fDjgyXru0v+hrra+np6LZ7W1tZadnW1mZgMGDLATJ050nYtEIvb111/f0Ll4VFVVZeFwOOH3\n",
              "urOz00pLS62urs6mT5/eFYdE3ufLxSHIfU6q38ra3NysjIwM9enzf8sOhULKyspSU1OTRo8eHfB0\n",
              "N+5q60tPT+/RuXj+77J27Vo98sgjOnXqlC5evKhhw4Z1ncvJyVFTU1OPz8WbBQsWaMeOHZKkbdu2\n",
              "Jfxer1mzRvfff7+Ki4u7jiXLPpuZSkpK9MYbbwS6z0l3zwGJYeXKlTpy5IgqKyuDHqVXfPjhh2pu\n",
              "btZrr72m8vLyoMeJqQMHDuizzz7Tq6++GvQovWrnzp2qr6/Xjz/+qDvvvFNlZWWBzpNUcbj77rt1\n",
              "4sQJdXR0SJLMTE1NTcrKygp4spvjauvr6bl4tGrVKm3evFnbt29X//79NWTIEPXp00ctLS1dH9PY\n",
              "2KisrKwen4tXZWVl2rFjhzIzMxN2r3ft2qXGxkbl5uYqJydH33//vRYtWqSNGzcm9D7/M0/fvn21\n",
              "fPly7dq1K9iv6Rv4Ftktafr06d1u0hQXFwc70A369+9TXm19PT0XT1avXm0TJkyw06dPdzteVlbW\n",
              "7Ybj8OHDu2449vRcPGhtbbU//vij6/0tW7bYiBEjLBqNJvxe/+PSew6Jus/nzp3r9oMHq1evtqlT\n",
              "p5pZcF/TSReHn3/+2SZNmmS5ublWXFxs9fX1QY/UI4sWLbIRI0ZYSkqK3XXXXTZq1Cgzu/r6enou\n",
              "XjQ3N5skGzlypIXDYQuHw1ZSUmJmZi0tLTZr1iwbPXq0jR071r755puu5/X0XDxobGy0SCRiBQUF\n",
              "VlhYaKWlpV1/GUjkvb7UpXFI1H3+7bffrKioyMaNG2cFBQU2d+5cO3r0qJkFt8/84j0AgJNU9xwA\n",
              "ANeGOAAAHOIAAHCIAwDAIQ4AAIc4AAAc4gAAcIgDAMAhDgAAhzgAAJz/BYUdSo8XKYkyAAAAAElF\n",
              "TkSuQmCC\n",
              "\">\n",
              "        \n",
              "      </div>\n",
              "      <script></script>\n",
              "      <script type=\"text/javascript\">\n",
              "        (() => {\n",
              "          const chartElement = document.getElementById(\"chart-26fa69b8-2c60-4889-8c6d-a5b528e626ee\");\n",
              "          async function getCodeForChartHandler(event) {\n",
              "            const chartCodeResponse =  await google.colab.kernel.invokeFunction(\n",
              "                'getCodeForChart', [\"chart-26fa69b8-2c60-4889-8c6d-a5b528e626ee\"], {});\n",
              "            const responseJson = chartCodeResponse.data['application/json'];\n",
              "            await google.colab.notebook.addCell(responseJson.code, 'code');\n",
              "          }\n",
              "          chartElement.onclick = getCodeForChartHandler;\n",
              "        })();\n",
              "      </script>\n",
              "      <style>\n",
              "        .colab-quickchart-chart-with-code  {\n",
              "            display: block;\n",
              "            float: left;\n",
              "            border: 1px solid transparent;\n",
              "        }\n",
              "\n",
              "        .colab-quickchart-chart-with-code:hover {\n",
              "            cursor: pointer;\n",
              "            border: 1px solid #aaa;\n",
              "        }\n",
              "      </style>"
            ]
          },
          "metadata": {}
        }
      ]
    },
    {
      "cell_type": "markdown",
      "source": [
        "# Data Analysis"
      ],
      "metadata": {
        "id": "-i36GzNq2Vy3"
      }
    },
    {
      "cell_type": "code",
      "source": [
        "# Renaming the columns\n",
        "df.rename(columns={\"v1\": \"Category\",\"v2\": \"Message\"}, inplace = True)\n",
        "df"
      ],
      "metadata": {
        "colab": {
          "base_uri": "https://localhost:8080/",
          "height": 693
        },
        "id": "3f5XQ8Poqe1p",
        "outputId": "73cb2c56-e1da-40cf-d6fe-9f88fc5430e3"
      },
      "execution_count": 11,
      "outputs": [
        {
          "output_type": "execute_result",
          "data": {
            "text/plain": [
              "     Category                                            Message\n",
              "0         ham  Go until jurong point, crazy.. Available only ...\n",
              "1         ham                      Ok lar... Joking wif u oni...\n",
              "2        spam  Free entry in 2 a wkly comp to win FA Cup fina...\n",
              "3         ham  U dun say so early hor... U c already then say...\n",
              "4         ham  Nah I don't think he goes to usf, he lives aro...\n",
              "...       ...                                                ...\n",
              "5567     spam  This is the 2nd time we have tried 2 contact u...\n",
              "5568      ham              Will Ì_ b going to esplanade fr home?\n",
              "5569      ham  Pity, * was in mood for that. So...any other s...\n",
              "5570      ham  The guy did some bitching but I acted like i'd...\n",
              "5571      ham                         Rofl. Its true to its name\n",
              "\n",
              "[5572 rows x 2 columns]"
            ],
            "text/html": [
              "\n",
              "  <div id=\"df-d1420876-9fae-4b6a-82e5-9ce0b44ccc98\" class=\"colab-df-container\">\n",
              "    <div>\n",
              "<style scoped>\n",
              "    .dataframe tbody tr th:only-of-type {\n",
              "        vertical-align: middle;\n",
              "    }\n",
              "\n",
              "    .dataframe tbody tr th {\n",
              "        vertical-align: top;\n",
              "    }\n",
              "\n",
              "    .dataframe thead th {\n",
              "        text-align: right;\n",
              "    }\n",
              "</style>\n",
              "<table border=\"1\" class=\"dataframe\">\n",
              "  <thead>\n",
              "    <tr style=\"text-align: right;\">\n",
              "      <th></th>\n",
              "      <th>Category</th>\n",
              "      <th>Message</th>\n",
              "    </tr>\n",
              "  </thead>\n",
              "  <tbody>\n",
              "    <tr>\n",
              "      <th>0</th>\n",
              "      <td>ham</td>\n",
              "      <td>Go until jurong point, crazy.. Available only ...</td>\n",
              "    </tr>\n",
              "    <tr>\n",
              "      <th>1</th>\n",
              "      <td>ham</td>\n",
              "      <td>Ok lar... Joking wif u oni...</td>\n",
              "    </tr>\n",
              "    <tr>\n",
              "      <th>2</th>\n",
              "      <td>spam</td>\n",
              "      <td>Free entry in 2 a wkly comp to win FA Cup fina...</td>\n",
              "    </tr>\n",
              "    <tr>\n",
              "      <th>3</th>\n",
              "      <td>ham</td>\n",
              "      <td>U dun say so early hor... U c already then say...</td>\n",
              "    </tr>\n",
              "    <tr>\n",
              "      <th>4</th>\n",
              "      <td>ham</td>\n",
              "      <td>Nah I don't think he goes to usf, he lives aro...</td>\n",
              "    </tr>\n",
              "    <tr>\n",
              "      <th>...</th>\n",
              "      <td>...</td>\n",
              "      <td>...</td>\n",
              "    </tr>\n",
              "    <tr>\n",
              "      <th>5567</th>\n",
              "      <td>spam</td>\n",
              "      <td>This is the 2nd time we have tried 2 contact u...</td>\n",
              "    </tr>\n",
              "    <tr>\n",
              "      <th>5568</th>\n",
              "      <td>ham</td>\n",
              "      <td>Will Ì_ b going to esplanade fr home?</td>\n",
              "    </tr>\n",
              "    <tr>\n",
              "      <th>5569</th>\n",
              "      <td>ham</td>\n",
              "      <td>Pity, * was in mood for that. So...any other s...</td>\n",
              "    </tr>\n",
              "    <tr>\n",
              "      <th>5570</th>\n",
              "      <td>ham</td>\n",
              "      <td>The guy did some bitching but I acted like i'd...</td>\n",
              "    </tr>\n",
              "    <tr>\n",
              "      <th>5571</th>\n",
              "      <td>ham</td>\n",
              "      <td>Rofl. Its true to its name</td>\n",
              "    </tr>\n",
              "  </tbody>\n",
              "</table>\n",
              "<p>5572 rows × 2 columns</p>\n",
              "</div>\n",
              "    <div class=\"colab-df-buttons\">\n",
              "\n",
              "  <div class=\"colab-df-container\">\n",
              "    <button class=\"colab-df-convert\" onclick=\"convertToInteractive('df-d1420876-9fae-4b6a-82e5-9ce0b44ccc98')\"\n",
              "            title=\"Convert this dataframe to an interactive table.\"\n",
              "            style=\"display:none;\">\n",
              "\n",
              "  <svg xmlns=\"http://www.w3.org/2000/svg\" height=\"24px\" viewBox=\"0 -960 960 960\">\n",
              "    <path d=\"M120-120v-720h720v720H120Zm60-500h600v-160H180v160Zm220 220h160v-160H400v160Zm0 220h160v-160H400v160ZM180-400h160v-160H180v160Zm440 0h160v-160H620v160ZM180-180h160v-160H180v160Zm440 0h160v-160H620v160Z\"/>\n",
              "  </svg>\n",
              "    </button>\n",
              "\n",
              "  <style>\n",
              "    .colab-df-container {\n",
              "      display:flex;\n",
              "      gap: 12px;\n",
              "    }\n",
              "\n",
              "    .colab-df-convert {\n",
              "      background-color: #E8F0FE;\n",
              "      border: none;\n",
              "      border-radius: 50%;\n",
              "      cursor: pointer;\n",
              "      display: none;\n",
              "      fill: #1967D2;\n",
              "      height: 32px;\n",
              "      padding: 0 0 0 0;\n",
              "      width: 32px;\n",
              "    }\n",
              "\n",
              "    .colab-df-convert:hover {\n",
              "      background-color: #E2EBFA;\n",
              "      box-shadow: 0px 1px 2px rgba(60, 64, 67, 0.3), 0px 1px 3px 1px rgba(60, 64, 67, 0.15);\n",
              "      fill: #174EA6;\n",
              "    }\n",
              "\n",
              "    .colab-df-buttons div {\n",
              "      margin-bottom: 4px;\n",
              "    }\n",
              "\n",
              "    [theme=dark] .colab-df-convert {\n",
              "      background-color: #3B4455;\n",
              "      fill: #D2E3FC;\n",
              "    }\n",
              "\n",
              "    [theme=dark] .colab-df-convert:hover {\n",
              "      background-color: #434B5C;\n",
              "      box-shadow: 0px 1px 3px 1px rgba(0, 0, 0, 0.15);\n",
              "      filter: drop-shadow(0px 1px 2px rgba(0, 0, 0, 0.3));\n",
              "      fill: #FFFFFF;\n",
              "    }\n",
              "  </style>\n",
              "\n",
              "    <script>\n",
              "      const buttonEl =\n",
              "        document.querySelector('#df-d1420876-9fae-4b6a-82e5-9ce0b44ccc98 button.colab-df-convert');\n",
              "      buttonEl.style.display =\n",
              "        google.colab.kernel.accessAllowed ? 'block' : 'none';\n",
              "\n",
              "      async function convertToInteractive(key) {\n",
              "        const element = document.querySelector('#df-d1420876-9fae-4b6a-82e5-9ce0b44ccc98');\n",
              "        const dataTable =\n",
              "          await google.colab.kernel.invokeFunction('convertToInteractive',\n",
              "                                                    [key], {});\n",
              "        if (!dataTable) return;\n",
              "\n",
              "        const docLinkHtml = 'Like what you see? Visit the ' +\n",
              "          '<a target=\"_blank\" href=https://colab.research.google.com/notebooks/data_table.ipynb>data table notebook</a>'\n",
              "          + ' to learn more about interactive tables.';\n",
              "        element.innerHTML = '';\n",
              "        dataTable['output_type'] = 'display_data';\n",
              "        await google.colab.output.renderOutput(dataTable, element);\n",
              "        const docLink = document.createElement('div');\n",
              "        docLink.innerHTML = docLinkHtml;\n",
              "        element.appendChild(docLink);\n",
              "      }\n",
              "    </script>\n",
              "  </div>\n",
              "\n",
              "\n",
              "<div id=\"df-b87312e0-b89b-4af5-8fc8-fedead195d5f\">\n",
              "  <button class=\"colab-df-quickchart\" onclick=\"quickchart('df-b87312e0-b89b-4af5-8fc8-fedead195d5f')\"\n",
              "            title=\"Suggest charts.\"\n",
              "            style=\"display:none;\">\n",
              "\n",
              "<svg xmlns=\"http://www.w3.org/2000/svg\" height=\"24px\"viewBox=\"0 0 24 24\"\n",
              "     width=\"24px\">\n",
              "    <g>\n",
              "        <path d=\"M19 3H5c-1.1 0-2 .9-2 2v14c0 1.1.9 2 2 2h14c1.1 0 2-.9 2-2V5c0-1.1-.9-2-2-2zM9 17H7v-7h2v7zm4 0h-2V7h2v10zm4 0h-2v-4h2v4z\"/>\n",
              "    </g>\n",
              "</svg>\n",
              "  </button>\n",
              "\n",
              "<style>\n",
              "  .colab-df-quickchart {\n",
              "      --bg-color: #E8F0FE;\n",
              "      --fill-color: #1967D2;\n",
              "      --hover-bg-color: #E2EBFA;\n",
              "      --hover-fill-color: #174EA6;\n",
              "      --disabled-fill-color: #AAA;\n",
              "      --disabled-bg-color: #DDD;\n",
              "  }\n",
              "\n",
              "  [theme=dark] .colab-df-quickchart {\n",
              "      --bg-color: #3B4455;\n",
              "      --fill-color: #D2E3FC;\n",
              "      --hover-bg-color: #434B5C;\n",
              "      --hover-fill-color: #FFFFFF;\n",
              "      --disabled-bg-color: #3B4455;\n",
              "      --disabled-fill-color: #666;\n",
              "  }\n",
              "\n",
              "  .colab-df-quickchart {\n",
              "    background-color: var(--bg-color);\n",
              "    border: none;\n",
              "    border-radius: 50%;\n",
              "    cursor: pointer;\n",
              "    display: none;\n",
              "    fill: var(--fill-color);\n",
              "    height: 32px;\n",
              "    padding: 0;\n",
              "    width: 32px;\n",
              "  }\n",
              "\n",
              "  .colab-df-quickchart:hover {\n",
              "    background-color: var(--hover-bg-color);\n",
              "    box-shadow: 0 1px 2px rgba(60, 64, 67, 0.3), 0 1px 3px 1px rgba(60, 64, 67, 0.15);\n",
              "    fill: var(--button-hover-fill-color);\n",
              "  }\n",
              "\n",
              "  .colab-df-quickchart-complete:disabled,\n",
              "  .colab-df-quickchart-complete:disabled:hover {\n",
              "    background-color: var(--disabled-bg-color);\n",
              "    fill: var(--disabled-fill-color);\n",
              "    box-shadow: none;\n",
              "  }\n",
              "\n",
              "  .colab-df-spinner {\n",
              "    border: 2px solid var(--fill-color);\n",
              "    border-color: transparent;\n",
              "    border-bottom-color: var(--fill-color);\n",
              "    animation:\n",
              "      spin 1s steps(1) infinite;\n",
              "  }\n",
              "\n",
              "  @keyframes spin {\n",
              "    0% {\n",
              "      border-color: transparent;\n",
              "      border-bottom-color: var(--fill-color);\n",
              "      border-left-color: var(--fill-color);\n",
              "    }\n",
              "    20% {\n",
              "      border-color: transparent;\n",
              "      border-left-color: var(--fill-color);\n",
              "      border-top-color: var(--fill-color);\n",
              "    }\n",
              "    30% {\n",
              "      border-color: transparent;\n",
              "      border-left-color: var(--fill-color);\n",
              "      border-top-color: var(--fill-color);\n",
              "      border-right-color: var(--fill-color);\n",
              "    }\n",
              "    40% {\n",
              "      border-color: transparent;\n",
              "      border-right-color: var(--fill-color);\n",
              "      border-top-color: var(--fill-color);\n",
              "    }\n",
              "    60% {\n",
              "      border-color: transparent;\n",
              "      border-right-color: var(--fill-color);\n",
              "    }\n",
              "    80% {\n",
              "      border-color: transparent;\n",
              "      border-right-color: var(--fill-color);\n",
              "      border-bottom-color: var(--fill-color);\n",
              "    }\n",
              "    90% {\n",
              "      border-color: transparent;\n",
              "      border-bottom-color: var(--fill-color);\n",
              "    }\n",
              "  }\n",
              "</style>\n",
              "\n",
              "  <script>\n",
              "    async function quickchart(key) {\n",
              "      const quickchartButtonEl =\n",
              "        document.querySelector('#' + key + ' button');\n",
              "      quickchartButtonEl.disabled = true;  // To prevent multiple clicks.\n",
              "      quickchartButtonEl.classList.add('colab-df-spinner');\n",
              "      try {\n",
              "        const charts = await google.colab.kernel.invokeFunction(\n",
              "            'suggestCharts', [key], {});\n",
              "      } catch (error) {\n",
              "        console.error('Error during call to suggestCharts:', error);\n",
              "      }\n",
              "      quickchartButtonEl.classList.remove('colab-df-spinner');\n",
              "      quickchartButtonEl.classList.add('colab-df-quickchart-complete');\n",
              "    }\n",
              "    (() => {\n",
              "      let quickchartButtonEl =\n",
              "        document.querySelector('#df-b87312e0-b89b-4af5-8fc8-fedead195d5f button');\n",
              "      quickchartButtonEl.style.display =\n",
              "        google.colab.kernel.accessAllowed ? 'block' : 'none';\n",
              "    })();\n",
              "  </script>\n",
              "</div>\n",
              "    </div>\n",
              "  </div>\n"
            ]
          },
          "metadata": {},
          "execution_count": 11
        },
        {
          "output_type": "display_data",
          "data": {
            "text/plain": [
              "<google.colab._quickchart_helpers.SectionTitle at 0x7edad29b1de0>"
            ],
            "text/html": [
              "<h4 class=\"colab-quickchart-section-title\">Categorical distributions</h4>\n",
              "<style>\n",
              "  .colab-quickchart-section-title {\n",
              "      clear: both;\n",
              "  }\n",
              "</style>"
            ]
          },
          "metadata": {}
        },
        {
          "output_type": "display_data",
          "data": {
            "text/plain": [
              "import numpy as np\n",
              "from google.colab import autoviz\n",
              "\n",
              "def categorical_histogram(df, colname, figscale=1, mpl_palette_name='Dark2'):\n",
              "  from matplotlib import pyplot as plt\n",
              "  import seaborn as sns\n",
              "  df.groupby(colname).size().plot(kind='barh', color=sns.palettes.mpl_palette(mpl_palette_name), figsize=(8*figscale, 4.8*figscale))\n",
              "  plt.gca().spines[['top', 'right',]].set_visible(False)\n",
              "  return autoviz.MplChart.from_current_mpl_state()\n",
              "\n",
              "chart = categorical_histogram(df, *['Category'], **{})\n",
              "chart"
            ],
            "text/html": [
              "      <div class=\"colab-quickchart-chart-with-code\" id=\"chart-0f36f93d-45ad-4d59-9797-fb2a90e64acf\">\n",
              "        <img src=\"data:image/png;base64,iVBORw0KGgoAAAANSUhEUgAAAYcAAADgCAYAAADomKooAAAAOXRFWHRTb2Z0d2FyZQBNYXRwbG90\n",
              "bGliIHZlcnNpb24zLjcuMSwgaHR0cHM6Ly9tYXRwbG90bGliLm9yZy/bCgiHAAAACXBIWXMAAA9h\n",
              "AAAPYQGoP6dpAAARg0lEQVR4nO3da2xU1b+H8e9mgFYEWrnYciuVCiq9TKEdBBSQU0DxAopEq3JJ\n",
              "X4iRGECjcghVE6MULxAJahRjWu+CCBijaIwWQQmUWrDQogFtoShVjo4tRCi9rPPixIn9L+EwdaZ7\n",
              "6DyfZBJmb6b9LbfwuGfV1jHGGAEA8Ded3B4AABB5iAMAwEIcAAAW4gAAsBAHAICFOAAALMQBAGAh\n",
              "DgAAS9TGYdWqVW6PAAARK2rjcOjQIbdHAICIFbVxAACcGXEAAFiIAwDAQhwAABbiAACwEAcAgIU4\n",
              "AAAsxAEAYCEOAAALcQAAWIgDAMBCHAAAFuIAALAQBwCAhTgAACzEAQBgIQ4AAAtxAABYiAMAwEIc\n",
              "AAAW4gAAsBAHAIDFMcYYt4dwQ16qoyW+86uNw4qa3R4BQJQ4v/52BAC0C+IAALAQBwCAhTgAACzE\n",
              "AQBgIQ4AAAtxAABYiAMAwEIcAAAW4gAAsBAHAICFOAAALMQBAGAhDgAAC3EAAFiIAwDAQhwAABbi\n",
              "AACwEAcAgIU4AAAsYYvDyZMndfvtt2v48OHyer2aMmWKtmzZorS0NM2ZM0dpaWnKysrSnj17JEm1\n",
              "tbWaOHGisrKylJqaqvvuu08tLS2SpKKiIk2aNEl33HGHhg8frrFjx6qyslK33HKLrrjiCk2ZMkUn\n",
              "TpwI11IAIOqELQ6ffPKJ/vjjD1VWVurbb7/Vu+++K0mqqKjQ3LlztW/fPi1evFi5ubkyxig+Pl4f\n",
              "fvihvvnmG5WXl6u6ulrr1q0LfLxdu3bpqaeeUmVlpVJSUnTTTTfppZde0v79+9W1a1e99tprZ5yl\n",
              "oaFB9fX1rR7NLeFaOQCc/8IWB6/Xq/3792v+/Plau3atunTpIklKTk5WTk6OJOm2225TbW2tampq\n",
              "1NLSosWLF8vr9WrEiBEqLS0N3FVI0pgxY5SUlCRJys7Ols/nU0JCgiTJ5/PpwIEDZ5yloKBAcXFx\n",
              "rR7l/xOmhQNABxC2OAwZMkSVlZW67rrr9PXXXystLU1+v9/6fY7jyHEcrVy5Ur/++qt27typ8vJy\n",
              "3XnnnTp16lTg98XGxgZ+7fF4rOdNTU1nnGXJkiWqq6tr9cjoE6KFAkAHFLY4HDlyRI7jaNq0aXr2\n",
              "2WdljFFNTY2qq6tVXFwsSVq/fr0SEhI0cOBA+f1+JSYmKjY2VrW1tXrvvfdCNktMTIx69uzZ6uFh\n",
              "Kx4AzqhzuD7w3r17tWTJEhlj1NTUpNmzZysjI0OpqakqKirSggUL1LVrV73zzjtyHEcLFy7UzJkz\n",
              "lZqaqv79+2vSpEnhGg0A8P9wjDGmvT7Zli1btGjRolZ7CW7JS3W0xHd+3T4MK2p2ewQAUeL8+tsR\n",
              "ANAu2jUO11xzTUTcNQAAzo47BwCAhTgAACzEAQBgIQ4AAAtxAABYiAMAwEIcAAAW4gAAsBAHAICF\n",
              "OAAALMQBAGAhDgAAC3EAAFiIAwDAQhwAABbiAACwBP0zpF9++WXNnj1b3bp1C8c87eaia+/XsJUr\n",
              "3R4DACJS0HcOW7du1ZAhQ3T//ffr4MGD4ZgJAOCyoOPw1ltv6dtvv1Xv3r2Vk5OjqVOn6uOPPw7H\n",
              "bAAAl7RpzyEhIUH5+fl67bXXVFFRoVmzZunyyy/X559/Hur5AAAuCHrP4dSpU3rzzTf1wgsvqFu3\n",
              "bnrmmWc0c+ZM7d69WzNnzlR1dXUYxgQAtKeg45CcnKzJkydrzZo18vl8gePZ2dmaPHlySIcDALgj\n",
              "qDg0Nzfr6aef1pw5c/7x/CuvvBKSoQAA7gpqz8Hj8ei5554L0ygAgEgR9Ib0yJEj9dVXX4VjFgBA\n",
              "hAh6z2HHjh0qKirSkCFD1L1798DxsrKykA4GAHBP0HF44YUXwjEHACCCBB2HCRMmSJJ+/vlnSVL/\n",
              "/v1DOxEAwHVB7zns379fqampgUd6erq+++67cMwGAHBJ0HGYP3++li5dKr/fL7/fr6VLl+ree+8N\n",
              "x2wAAJcEHQe/368777wz8Dw3N1d+vz+kQwEA3BV0HDwejyorKwPPKysr5fF4QjoUAMBdQW9IL1u2\n",
              "TOPHj1dGRoYkae/evXrrrbdCPhgAwD1Bx+Haa69VZWWlSkpKJEmjR49Wnz59Qj4YAMA9QcdBki6+\n",
              "+GLdeOONoZ4FABAhgt5z6NSpkzweT6tHr169dMMNN/DtugGggwj6zuHxxx9XU1OT7r77bknSq6++\n",
              "qoaGBiUkJOiee+7Rp59+GvIhAQDtK+g4bNq0SaWlpYHnjz76qLKzs1VaWqo1a9aEdDgAgDuCflvp\n",
              "+PHjOnbsWOD5sWPHdPz4cUlSly5dQjcZAMA1Qd85PPDAA/J6vZo6daok6dNPP1V+fr5OnDihq666\n",
              "KuQDAgDan2OMMcG+aN++fSouLpYkTZw4UWlpaSEfLNweeOABrVy50u0xACAitelLWXv37q309HRd\n",
              "c801ampq0unTp9W1a9dQzwYAcEnQew7r16/X6NGjlZeXJ0mqqKjQzTffHOq5AAAuCjoOBQUFKisr\n",
              "U3x8vCTJ6/Xq0KFDoZ4LAOCiNn3jvd69e7c6xltKANCxBB2HHj166JdffpHjOJKkzz//XL169Qr5\n",
              "YAAA9wS9Ib18+XJNnTpVP/74o66++mpVVVXpo48+CsdsAACXBB0Hn8+n4uJibd++XcYYjR07NrD/\n",
              "AADoGNr0Y0Lj4uI0depUXX/99YqPj9f8+fPDMRsAwCVBx2HHjh3Wse3bt4dkGABAZDjnt5XWrl2r\n",
              "d999V1VVVZoxY0bgeF1dnbp37x6W4QAA7jjnOFx++eWaPn26ysrKNH369MDxnj17KicnJyzDAQDc\n",
              "cc5x8Hq98nq9uuGGG9S3b99wzgQAcFnQX63Ut29frVu3Tnv27NGpU6cCx/kmdgDQcQS9Ib1gwQK9\n",
              "8cYbKioqkuM4Wr9+verq6sIxGwDAJUHHobi4WB988IH69u2rFStWqKSkREeOHAnHbAAAlwQdh9jY\n",
              "WHXq1EmO46ixsVGJiYn6+eefwzEbAMAlQe859OjRQ3/++aeuvvpqzZo1S4mJierWrVs4ZgMAuOSc\n",
              "7xzq6+tVXV2td955R507d9Yzzzyj9PR0HTlyRO+//344ZwQAtLNzjsPDDz+sb775RgkJCeratasu\n",
              "uOAC5efn66677tKTTz4ZzhkBAO3snONQUlKiW2+91To+Y8YMbd26NaRDAQDcdc5xaGpqOvMH6RT0\n",
              "vjYAIIKd84Z0Y2Oj6uvr1bNnz1bH6+rq1NjYGPLBwm1NxTatK/xvt8cAgFaO5C13ewRJQdw55Obm\n",
              "avbs2fL7/YFjfr9feXl5ys3NDctwAAB3nHMc8vPzFR8fr0GDBmnEiBEaMWKEBg0apB49euiRRx4J\n",
              "54wAgHbmGGNMMC/44YcfVFZWJkkaOXKkUlJSwjJYuHW/1qf4XL6bLIDIEilvKwX9P8GlpKSct0EA\n",
              "AJwbvswIAGAhDgAAC3EAAFiIAwDAQhwAABbiAACwEAcAgIU4AAAsxAEAYCEOAAALcQAAWIgDAMBC\n",
              "HAAAFuIAALAQBwCApd3j4DiO/vjjj/b+tACAIHDnAACwuBKHF198UaNGjdIll1yiwsLCwPEHH3xQ\n",
              "Pp9PmZmZGj9+vL7//vvAOcdx9OSTT+rKK69UcnKyNm3apIKCAmVnZ2vo0KHasmXLGT9fQ0OD6uvr\n",
              "Wz3UHNRPRwWAqOJKHGJiYlRSUqLNmzdrwYIFampqkiQtXrxYu3bt0p49ezR//nwtXLiw1eu6d++u\n",
              "nTt36tVXX9WsWbPUr18/lZaWatmyZXrooYfO+PkKCgoUFxfX6nG66mhY1wgA5zPHGNOu/wntOI6O\n",
              "Hj2qxMRESdJFF12kvXv3auDAgXr77be1evVqHT9+XC0tLfr9999VW1trva6urk7x8fE6efKkYmNj\n",
              "dejQIXm93jPuZTQ0NKihoaHVsf4z/kvxd00K61oBIFhH8pa7PYIkqbMbnzQ2Njbwa4/Ho6amJh0+\n",
              "fFj33Xefdu3apZSUFJWXl2v8+PH/+DqPx2M9/+vu45/ExMQoJiam9UGPE4qlAECHFDEb0nV1derS\n",
              "pYv69esnY4yef/55t0cCgKgVMXFIT09Xbm6uUlNT5fP5lJSU5PZIABC12n3PIVJ0v9an+Nwct8cA\n",
              "gFYiZc8hYu4cAACRgzgAACzEAQBgIQ4AAAtxAABYiAMAwEIcAAAW4gAAsBAHAICFOAAALMQBAGAh\n",
              "DgAAC3EAAFiIAwDAQhwAABbiAACwEAcAgKWz2wO4ZV7qOK2MkJ+4BACRhjsHAICFOAAALMQBAGAh\n",
              "DgAAC3EAAFiIAwDAQhwAABbiAACwEAcAgIU4AAAsxAEAYCEOAAALcQAAWIgDAMBCHAAAFuIAALAQ\n",
              "BwCAhTgAACzEAQBgIQ4AAAtxAABYiAMAwNLZ7QHc0NDQoM2bN6u5uVkej8ftcdpFc3OzSkpKNGrU\n",
              "KNbcgbHm6Fiz9M/rHjx4sBYuXBiSj+8YY0xIPtJ5pL6+XnFxcaqrq1PPnj3dHqddsGbW3FFF45ql\n",
              "8K+bt5UAABbiAACwEAcAgCUq4xATE6PHHntMMTExbo/SblhzdGDN0SPc647KDWkAwNlF5Z0DAODs\n",
              "iAMAwEIcAAAW4gAAsERdHA4cOKCxY8dq2LBh8vl8qqiocHukNlmwYIGSk5PlOI727NkTOH629bX1\n",
              "XKQ4deqUbr75Zg0bNkxer1eTJ0/WwYMHJUm//vqrrrvuOg0dOlRpaWnaunVr4HVtPRcppkyZooyM\n",
              "DGVmZmrcuHHavXu3pI59rf9SWFgox3G0adMmSR37OicnJ+uyyy5TZmamMjMztXbtWkkuXmcTZSZO\n",
              "nGgKCwuNMca89957Jjs7292B2ujLL780NTU1ZvDgwWb37t2B42dbX1vPRYqTJ0+ajz76yLS0tBhj\n",
              "jFm9erWZMGGCMcaYvLw889hjjxljjCkpKTEDBgwwp0+f/lfnIoXf7w/8esOGDSYjI8MY07GvtTHG\n",
              "VFVVmTFjxpjRo0ebjRs3GmM69nX+zz/Lf3HrOkdVHH755RfTo0cP09jYaIwxpqWlxSQkJJgDBw64\n",
              "PFnb/f1fqLOtr63nItmuXbvM4MGDjTHGXHjhhebo0aOBcz6fz3z22Wf/6lwkKiwsNF6vt8Nf6+bm\n",
              "ZpOTk2NKS0vNhAkTAnHoyNf5n+Lg5nWOqu/KWlNTo379+qlz5/9btuM4SkpK0uHDh3XppZe6PN2/\n",
              "d7b1xcXFtelcJP9zWbVqlaZPn67ffvtNjY2NSkxMDJxLTk7W4cOH23wu0syZM0fFxcWSpI8//rjD\n",
              "X+uVK1fqqquuUlZWVuBYtFxnY4xGjRql5cuXu3qdo27PAR3DsmXLdPDgQRUUFLg9Srt4/fXXVVNT\n",
              "oyeeeEKLFy92e5yw2rdvn95//33l5+e7PUq72rp1q8rLy1VWVqY+ffpo7ty5rs4TVXEYNGiQjh49\n",
              "qqamJkmSMUaHDx9WUlKSy5OFxtnW19ZzkejZZ5/Vhg0btHnzZnXr1k29e/dW586dVVtbG/g91dXV\n",
              "SkpKavO5SDV37lwVFxdr4MCBHfZab9u2TdXV1Ro6dKiSk5O1Y8cOzZs3T+vWrevQ1/mvebp06aJF\n",
              "ixZp27Zt7v6Z/hdvkZ2XJkyY0GqTJisry92B/qX/fJ/ybOtr67lIsmLFCjNy5Ejz+++/tzo+d+7c\n",
              "VhuO/fv3D2w4tvVcJPD7/eann34KPN+4caMZMGCAaWlp6fDX+i9/33PoqNf5xIkTrb7wYMWKFWbc\n",
              "uHHGGPf+TEddHL777jszevRoM3ToUJOVlWXKy8vdHqlN5s2bZwYMGGA8Ho+5+OKLTUpKijHm7Otr\n",
              "67lIUVNTYySZIUOGGK/Xa7xerxk1apQxxpja2lozefJkc+mll5rhw4ebL774IvC6tp6LBNXV1cbn\n",
              "85m0tDSTkZFhcnJyAv8x0JGv9d/9PQ4d9Tr/8MMPJjMz06Snp5u0tDQzbdo0U1VVZYxx7zrzjfcA\n",
              "AJao2nMAAJwb4gAAsBAHAICFOAAALMQBAGAhDgAAC3EAAFiIAwDAQhwAABbiAACw/C99t3EVhp3T\n",
              "iQAAAABJRU5ErkJggg==\n",
              "\">\n",
              "        \n",
              "      </div>\n",
              "      <script></script>\n",
              "      <script type=\"text/javascript\">\n",
              "        (() => {\n",
              "          const chartElement = document.getElementById(\"chart-0f36f93d-45ad-4d59-9797-fb2a90e64acf\");\n",
              "          async function getCodeForChartHandler(event) {\n",
              "            const chartCodeResponse =  await google.colab.kernel.invokeFunction(\n",
              "                'getCodeForChart', [\"chart-0f36f93d-45ad-4d59-9797-fb2a90e64acf\"], {});\n",
              "            const responseJson = chartCodeResponse.data['application/json'];\n",
              "            await google.colab.notebook.addCell(responseJson.code, 'code');\n",
              "          }\n",
              "          chartElement.onclick = getCodeForChartHandler;\n",
              "        })();\n",
              "      </script>\n",
              "      <style>\n",
              "        .colab-quickchart-chart-with-code  {\n",
              "            display: block;\n",
              "            float: left;\n",
              "            border: 1px solid transparent;\n",
              "        }\n",
              "\n",
              "        .colab-quickchart-chart-with-code:hover {\n",
              "            cursor: pointer;\n",
              "            border: 1px solid #aaa;\n",
              "        }\n",
              "      </style>"
            ]
          },
          "metadata": {}
        }
      ]
    },
    {
      "cell_type": "markdown",
      "source": [
        "# Implementing Label Encoder"
      ],
      "metadata": {
        "id": "QkXgW2fd2qu1"
      }
    },
    {
      "cell_type": "code",
      "source": [
        "# Importing Label Encoder\n",
        "from sklearn.preprocessing import LabelEncoder\n",
        "\n",
        "le = LabelEncoder()\n",
        "df[\"Category\"] = le.fit_transform(df[\"Category\"])\n",
        "df"
      ],
      "metadata": {
        "colab": {
          "base_uri": "https://localhost:8080/",
          "height": 830
        },
        "id": "nBPrcsQbqn8u",
        "outputId": "ec421fbc-dfd1-4b36-d16f-5f080dc68272"
      },
      "execution_count": 13,
      "outputs": [
        {
          "output_type": "execute_result",
          "data": {
            "text/plain": [
              "      Category                                            Message\n",
              "0            0  Go until jurong point, crazy.. Available only ...\n",
              "1            0                      Ok lar... Joking wif u oni...\n",
              "2            1  Free entry in 2 a wkly comp to win FA Cup fina...\n",
              "3            0  U dun say so early hor... U c already then say...\n",
              "4            0  Nah I don't think he goes to usf, he lives aro...\n",
              "...        ...                                                ...\n",
              "5567         1  This is the 2nd time we have tried 2 contact u...\n",
              "5568         0              Will Ì_ b going to esplanade fr home?\n",
              "5569         0  Pity, * was in mood for that. So...any other s...\n",
              "5570         0  The guy did some bitching but I acted like i'd...\n",
              "5571         0                         Rofl. Its true to its name\n",
              "\n",
              "[5572 rows x 2 columns]"
            ],
            "text/html": [
              "\n",
              "  <div id=\"df-c5be7a63-7d29-4c7d-a732-a1661daa8237\" class=\"colab-df-container\">\n",
              "    <div>\n",
              "<style scoped>\n",
              "    .dataframe tbody tr th:only-of-type {\n",
              "        vertical-align: middle;\n",
              "    }\n",
              "\n",
              "    .dataframe tbody tr th {\n",
              "        vertical-align: top;\n",
              "    }\n",
              "\n",
              "    .dataframe thead th {\n",
              "        text-align: right;\n",
              "    }\n",
              "</style>\n",
              "<table border=\"1\" class=\"dataframe\">\n",
              "  <thead>\n",
              "    <tr style=\"text-align: right;\">\n",
              "      <th></th>\n",
              "      <th>Category</th>\n",
              "      <th>Message</th>\n",
              "    </tr>\n",
              "  </thead>\n",
              "  <tbody>\n",
              "    <tr>\n",
              "      <th>0</th>\n",
              "      <td>0</td>\n",
              "      <td>Go until jurong point, crazy.. Available only ...</td>\n",
              "    </tr>\n",
              "    <tr>\n",
              "      <th>1</th>\n",
              "      <td>0</td>\n",
              "      <td>Ok lar... Joking wif u oni...</td>\n",
              "    </tr>\n",
              "    <tr>\n",
              "      <th>2</th>\n",
              "      <td>1</td>\n",
              "      <td>Free entry in 2 a wkly comp to win FA Cup fina...</td>\n",
              "    </tr>\n",
              "    <tr>\n",
              "      <th>3</th>\n",
              "      <td>0</td>\n",
              "      <td>U dun say so early hor... U c already then say...</td>\n",
              "    </tr>\n",
              "    <tr>\n",
              "      <th>4</th>\n",
              "      <td>0</td>\n",
              "      <td>Nah I don't think he goes to usf, he lives aro...</td>\n",
              "    </tr>\n",
              "    <tr>\n",
              "      <th>...</th>\n",
              "      <td>...</td>\n",
              "      <td>...</td>\n",
              "    </tr>\n",
              "    <tr>\n",
              "      <th>5567</th>\n",
              "      <td>1</td>\n",
              "      <td>This is the 2nd time we have tried 2 contact u...</td>\n",
              "    </tr>\n",
              "    <tr>\n",
              "      <th>5568</th>\n",
              "      <td>0</td>\n",
              "      <td>Will Ì_ b going to esplanade fr home?</td>\n",
              "    </tr>\n",
              "    <tr>\n",
              "      <th>5569</th>\n",
              "      <td>0</td>\n",
              "      <td>Pity, * was in mood for that. So...any other s...</td>\n",
              "    </tr>\n",
              "    <tr>\n",
              "      <th>5570</th>\n",
              "      <td>0</td>\n",
              "      <td>The guy did some bitching but I acted like i'd...</td>\n",
              "    </tr>\n",
              "    <tr>\n",
              "      <th>5571</th>\n",
              "      <td>0</td>\n",
              "      <td>Rofl. Its true to its name</td>\n",
              "    </tr>\n",
              "  </tbody>\n",
              "</table>\n",
              "<p>5572 rows × 2 columns</p>\n",
              "</div>\n",
              "    <div class=\"colab-df-buttons\">\n",
              "\n",
              "  <div class=\"colab-df-container\">\n",
              "    <button class=\"colab-df-convert\" onclick=\"convertToInteractive('df-c5be7a63-7d29-4c7d-a732-a1661daa8237')\"\n",
              "            title=\"Convert this dataframe to an interactive table.\"\n",
              "            style=\"display:none;\">\n",
              "\n",
              "  <svg xmlns=\"http://www.w3.org/2000/svg\" height=\"24px\" viewBox=\"0 -960 960 960\">\n",
              "    <path d=\"M120-120v-720h720v720H120Zm60-500h600v-160H180v160Zm220 220h160v-160H400v160Zm0 220h160v-160H400v160ZM180-400h160v-160H180v160Zm440 0h160v-160H620v160ZM180-180h160v-160H180v160Zm440 0h160v-160H620v160Z\"/>\n",
              "  </svg>\n",
              "    </button>\n",
              "\n",
              "  <style>\n",
              "    .colab-df-container {\n",
              "      display:flex;\n",
              "      gap: 12px;\n",
              "    }\n",
              "\n",
              "    .colab-df-convert {\n",
              "      background-color: #E8F0FE;\n",
              "      border: none;\n",
              "      border-radius: 50%;\n",
              "      cursor: pointer;\n",
              "      display: none;\n",
              "      fill: #1967D2;\n",
              "      height: 32px;\n",
              "      padding: 0 0 0 0;\n",
              "      width: 32px;\n",
              "    }\n",
              "\n",
              "    .colab-df-convert:hover {\n",
              "      background-color: #E2EBFA;\n",
              "      box-shadow: 0px 1px 2px rgba(60, 64, 67, 0.3), 0px 1px 3px 1px rgba(60, 64, 67, 0.15);\n",
              "      fill: #174EA6;\n",
              "    }\n",
              "\n",
              "    .colab-df-buttons div {\n",
              "      margin-bottom: 4px;\n",
              "    }\n",
              "\n",
              "    [theme=dark] .colab-df-convert {\n",
              "      background-color: #3B4455;\n",
              "      fill: #D2E3FC;\n",
              "    }\n",
              "\n",
              "    [theme=dark] .colab-df-convert:hover {\n",
              "      background-color: #434B5C;\n",
              "      box-shadow: 0px 1px 3px 1px rgba(0, 0, 0, 0.15);\n",
              "      filter: drop-shadow(0px 1px 2px rgba(0, 0, 0, 0.3));\n",
              "      fill: #FFFFFF;\n",
              "    }\n",
              "  </style>\n",
              "\n",
              "    <script>\n",
              "      const buttonEl =\n",
              "        document.querySelector('#df-c5be7a63-7d29-4c7d-a732-a1661daa8237 button.colab-df-convert');\n",
              "      buttonEl.style.display =\n",
              "        google.colab.kernel.accessAllowed ? 'block' : 'none';\n",
              "\n",
              "      async function convertToInteractive(key) {\n",
              "        const element = document.querySelector('#df-c5be7a63-7d29-4c7d-a732-a1661daa8237');\n",
              "        const dataTable =\n",
              "          await google.colab.kernel.invokeFunction('convertToInteractive',\n",
              "                                                    [key], {});\n",
              "        if (!dataTable) return;\n",
              "\n",
              "        const docLinkHtml = 'Like what you see? Visit the ' +\n",
              "          '<a target=\"_blank\" href=https://colab.research.google.com/notebooks/data_table.ipynb>data table notebook</a>'\n",
              "          + ' to learn more about interactive tables.';\n",
              "        element.innerHTML = '';\n",
              "        dataTable['output_type'] = 'display_data';\n",
              "        await google.colab.output.renderOutput(dataTable, element);\n",
              "        const docLink = document.createElement('div');\n",
              "        docLink.innerHTML = docLinkHtml;\n",
              "        element.appendChild(docLink);\n",
              "      }\n",
              "    </script>\n",
              "  </div>\n",
              "\n",
              "\n",
              "<div id=\"df-bc428f07-17ea-4881-9b36-bfc077dc7922\">\n",
              "  <button class=\"colab-df-quickchart\" onclick=\"quickchart('df-bc428f07-17ea-4881-9b36-bfc077dc7922')\"\n",
              "            title=\"Suggest charts.\"\n",
              "            style=\"display:none;\">\n",
              "\n",
              "<svg xmlns=\"http://www.w3.org/2000/svg\" height=\"24px\"viewBox=\"0 0 24 24\"\n",
              "     width=\"24px\">\n",
              "    <g>\n",
              "        <path d=\"M19 3H5c-1.1 0-2 .9-2 2v14c0 1.1.9 2 2 2h14c1.1 0 2-.9 2-2V5c0-1.1-.9-2-2-2zM9 17H7v-7h2v7zm4 0h-2V7h2v10zm4 0h-2v-4h2v4z\"/>\n",
              "    </g>\n",
              "</svg>\n",
              "  </button>\n",
              "\n",
              "<style>\n",
              "  .colab-df-quickchart {\n",
              "      --bg-color: #E8F0FE;\n",
              "      --fill-color: #1967D2;\n",
              "      --hover-bg-color: #E2EBFA;\n",
              "      --hover-fill-color: #174EA6;\n",
              "      --disabled-fill-color: #AAA;\n",
              "      --disabled-bg-color: #DDD;\n",
              "  }\n",
              "\n",
              "  [theme=dark] .colab-df-quickchart {\n",
              "      --bg-color: #3B4455;\n",
              "      --fill-color: #D2E3FC;\n",
              "      --hover-bg-color: #434B5C;\n",
              "      --hover-fill-color: #FFFFFF;\n",
              "      --disabled-bg-color: #3B4455;\n",
              "      --disabled-fill-color: #666;\n",
              "  }\n",
              "\n",
              "  .colab-df-quickchart {\n",
              "    background-color: var(--bg-color);\n",
              "    border: none;\n",
              "    border-radius: 50%;\n",
              "    cursor: pointer;\n",
              "    display: none;\n",
              "    fill: var(--fill-color);\n",
              "    height: 32px;\n",
              "    padding: 0;\n",
              "    width: 32px;\n",
              "  }\n",
              "\n",
              "  .colab-df-quickchart:hover {\n",
              "    background-color: var(--hover-bg-color);\n",
              "    box-shadow: 0 1px 2px rgba(60, 64, 67, 0.3), 0 1px 3px 1px rgba(60, 64, 67, 0.15);\n",
              "    fill: var(--button-hover-fill-color);\n",
              "  }\n",
              "\n",
              "  .colab-df-quickchart-complete:disabled,\n",
              "  .colab-df-quickchart-complete:disabled:hover {\n",
              "    background-color: var(--disabled-bg-color);\n",
              "    fill: var(--disabled-fill-color);\n",
              "    box-shadow: none;\n",
              "  }\n",
              "\n",
              "  .colab-df-spinner {\n",
              "    border: 2px solid var(--fill-color);\n",
              "    border-color: transparent;\n",
              "    border-bottom-color: var(--fill-color);\n",
              "    animation:\n",
              "      spin 1s steps(1) infinite;\n",
              "  }\n",
              "\n",
              "  @keyframes spin {\n",
              "    0% {\n",
              "      border-color: transparent;\n",
              "      border-bottom-color: var(--fill-color);\n",
              "      border-left-color: var(--fill-color);\n",
              "    }\n",
              "    20% {\n",
              "      border-color: transparent;\n",
              "      border-left-color: var(--fill-color);\n",
              "      border-top-color: var(--fill-color);\n",
              "    }\n",
              "    30% {\n",
              "      border-color: transparent;\n",
              "      border-left-color: var(--fill-color);\n",
              "      border-top-color: var(--fill-color);\n",
              "      border-right-color: var(--fill-color);\n",
              "    }\n",
              "    40% {\n",
              "      border-color: transparent;\n",
              "      border-right-color: var(--fill-color);\n",
              "      border-top-color: var(--fill-color);\n",
              "    }\n",
              "    60% {\n",
              "      border-color: transparent;\n",
              "      border-right-color: var(--fill-color);\n",
              "    }\n",
              "    80% {\n",
              "      border-color: transparent;\n",
              "      border-right-color: var(--fill-color);\n",
              "      border-bottom-color: var(--fill-color);\n",
              "    }\n",
              "    90% {\n",
              "      border-color: transparent;\n",
              "      border-bottom-color: var(--fill-color);\n",
              "    }\n",
              "  }\n",
              "</style>\n",
              "\n",
              "  <script>\n",
              "    async function quickchart(key) {\n",
              "      const quickchartButtonEl =\n",
              "        document.querySelector('#' + key + ' button');\n",
              "      quickchartButtonEl.disabled = true;  // To prevent multiple clicks.\n",
              "      quickchartButtonEl.classList.add('colab-df-spinner');\n",
              "      try {\n",
              "        const charts = await google.colab.kernel.invokeFunction(\n",
              "            'suggestCharts', [key], {});\n",
              "      } catch (error) {\n",
              "        console.error('Error during call to suggestCharts:', error);\n",
              "      }\n",
              "      quickchartButtonEl.classList.remove('colab-df-spinner');\n",
              "      quickchartButtonEl.classList.add('colab-df-quickchart-complete');\n",
              "    }\n",
              "    (() => {\n",
              "      let quickchartButtonEl =\n",
              "        document.querySelector('#df-bc428f07-17ea-4881-9b36-bfc077dc7922 button');\n",
              "      quickchartButtonEl.style.display =\n",
              "        google.colab.kernel.accessAllowed ? 'block' : 'none';\n",
              "    })();\n",
              "  </script>\n",
              "</div>\n",
              "    </div>\n",
              "  </div>\n"
            ]
          },
          "metadata": {},
          "execution_count": 12
        },
        {
          "output_type": "execute_result",
          "data": {
            "text/plain": [
              "      Category                                            Message\n",
              "0            0  Go until jurong point, crazy.. Available only ...\n",
              "1            0                      Ok lar... Joking wif u oni...\n",
              "2            1  Free entry in 2 a wkly comp to win FA Cup fina...\n",
              "3            0  U dun say so early hor... U c already then say...\n",
              "4            0  Nah I don't think he goes to usf, he lives aro...\n",
              "...        ...                                                ...\n",
              "5567         1  This is the 2nd time we have tried 2 contact u...\n",
              "5568         0              Will Ì_ b going to esplanade fr home?\n",
              "5569         0  Pity, * was in mood for that. So...any other s...\n",
              "5570         0  The guy did some bitching but I acted like i'd...\n",
              "5571         0                         Rofl. Its true to its name\n",
              "\n",
              "[5572 rows x 2 columns]"
            ],
            "text/html": [
              "\n",
              "  <div id=\"df-8b3d4cc9-6e66-4fa0-a308-212e279342dc\" class=\"colab-df-container\">\n",
              "    <div>\n",
              "<style scoped>\n",
              "    .dataframe tbody tr th:only-of-type {\n",
              "        vertical-align: middle;\n",
              "    }\n",
              "\n",
              "    .dataframe tbody tr th {\n",
              "        vertical-align: top;\n",
              "    }\n",
              "\n",
              "    .dataframe thead th {\n",
              "        text-align: right;\n",
              "    }\n",
              "</style>\n",
              "<table border=\"1\" class=\"dataframe\">\n",
              "  <thead>\n",
              "    <tr style=\"text-align: right;\">\n",
              "      <th></th>\n",
              "      <th>Category</th>\n",
              "      <th>Message</th>\n",
              "    </tr>\n",
              "  </thead>\n",
              "  <tbody>\n",
              "    <tr>\n",
              "      <th>0</th>\n",
              "      <td>0</td>\n",
              "      <td>Go until jurong point, crazy.. Available only ...</td>\n",
              "    </tr>\n",
              "    <tr>\n",
              "      <th>1</th>\n",
              "      <td>0</td>\n",
              "      <td>Ok lar... Joking wif u oni...</td>\n",
              "    </tr>\n",
              "    <tr>\n",
              "      <th>2</th>\n",
              "      <td>1</td>\n",
              "      <td>Free entry in 2 a wkly comp to win FA Cup fina...</td>\n",
              "    </tr>\n",
              "    <tr>\n",
              "      <th>3</th>\n",
              "      <td>0</td>\n",
              "      <td>U dun say so early hor... U c already then say...</td>\n",
              "    </tr>\n",
              "    <tr>\n",
              "      <th>4</th>\n",
              "      <td>0</td>\n",
              "      <td>Nah I don't think he goes to usf, he lives aro...</td>\n",
              "    </tr>\n",
              "    <tr>\n",
              "      <th>...</th>\n",
              "      <td>...</td>\n",
              "      <td>...</td>\n",
              "    </tr>\n",
              "    <tr>\n",
              "      <th>5567</th>\n",
              "      <td>1</td>\n",
              "      <td>This is the 2nd time we have tried 2 contact u...</td>\n",
              "    </tr>\n",
              "    <tr>\n",
              "      <th>5568</th>\n",
              "      <td>0</td>\n",
              "      <td>Will Ì_ b going to esplanade fr home?</td>\n",
              "    </tr>\n",
              "    <tr>\n",
              "      <th>5569</th>\n",
              "      <td>0</td>\n",
              "      <td>Pity, * was in mood for that. So...any other s...</td>\n",
              "    </tr>\n",
              "    <tr>\n",
              "      <th>5570</th>\n",
              "      <td>0</td>\n",
              "      <td>The guy did some bitching but I acted like i'd...</td>\n",
              "    </tr>\n",
              "    <tr>\n",
              "      <th>5571</th>\n",
              "      <td>0</td>\n",
              "      <td>Rofl. Its true to its name</td>\n",
              "    </tr>\n",
              "  </tbody>\n",
              "</table>\n",
              "<p>5572 rows × 2 columns</p>\n",
              "</div>\n",
              "    <div class=\"colab-df-buttons\">\n",
              "\n",
              "  <div class=\"colab-df-container\">\n",
              "    <button class=\"colab-df-convert\" onclick=\"convertToInteractive('df-8b3d4cc9-6e66-4fa0-a308-212e279342dc')\"\n",
              "            title=\"Convert this dataframe to an interactive table.\"\n",
              "            style=\"display:none;\">\n",
              "\n",
              "  <svg xmlns=\"http://www.w3.org/2000/svg\" height=\"24px\" viewBox=\"0 -960 960 960\">\n",
              "    <path d=\"M120-120v-720h720v720H120Zm60-500h600v-160H180v160Zm220 220h160v-160H400v160Zm0 220h160v-160H400v160ZM180-400h160v-160H180v160Zm440 0h160v-160H620v160ZM180-180h160v-160H180v160Zm440 0h160v-160H620v160Z\"/>\n",
              "  </svg>\n",
              "    </button>\n",
              "\n",
              "  <style>\n",
              "    .colab-df-container {\n",
              "      display:flex;\n",
              "      gap: 12px;\n",
              "    }\n",
              "\n",
              "    .colab-df-convert {\n",
              "      background-color: #E8F0FE;\n",
              "      border: none;\n",
              "      border-radius: 50%;\n",
              "      cursor: pointer;\n",
              "      display: none;\n",
              "      fill: #1967D2;\n",
              "      height: 32px;\n",
              "      padding: 0 0 0 0;\n",
              "      width: 32px;\n",
              "    }\n",
              "\n",
              "    .colab-df-convert:hover {\n",
              "      background-color: #E2EBFA;\n",
              "      box-shadow: 0px 1px 2px rgba(60, 64, 67, 0.3), 0px 1px 3px 1px rgba(60, 64, 67, 0.15);\n",
              "      fill: #174EA6;\n",
              "    }\n",
              "\n",
              "    .colab-df-buttons div {\n",
              "      margin-bottom: 4px;\n",
              "    }\n",
              "\n",
              "    [theme=dark] .colab-df-convert {\n",
              "      background-color: #3B4455;\n",
              "      fill: #D2E3FC;\n",
              "    }\n",
              "\n",
              "    [theme=dark] .colab-df-convert:hover {\n",
              "      background-color: #434B5C;\n",
              "      box-shadow: 0px 1px 3px 1px rgba(0, 0, 0, 0.15);\n",
              "      filter: drop-shadow(0px 1px 2px rgba(0, 0, 0, 0.3));\n",
              "      fill: #FFFFFF;\n",
              "    }\n",
              "  </style>\n",
              "\n",
              "    <script>\n",
              "      const buttonEl =\n",
              "        document.querySelector('#df-8b3d4cc9-6e66-4fa0-a308-212e279342dc button.colab-df-convert');\n",
              "      buttonEl.style.display =\n",
              "        google.colab.kernel.accessAllowed ? 'block' : 'none';\n",
              "\n",
              "      async function convertToInteractive(key) {\n",
              "        const element = document.querySelector('#df-8b3d4cc9-6e66-4fa0-a308-212e279342dc');\n",
              "        const dataTable =\n",
              "          await google.colab.kernel.invokeFunction('convertToInteractive',\n",
              "                                                    [key], {});\n",
              "        if (!dataTable) return;\n",
              "\n",
              "        const docLinkHtml = 'Like what you see? Visit the ' +\n",
              "          '<a target=\"_blank\" href=https://colab.research.google.com/notebooks/data_table.ipynb>data table notebook</a>'\n",
              "          + ' to learn more about interactive tables.';\n",
              "        element.innerHTML = '';\n",
              "        dataTable['output_type'] = 'display_data';\n",
              "        await google.colab.output.renderOutput(dataTable, element);\n",
              "        const docLink = document.createElement('div');\n",
              "        docLink.innerHTML = docLinkHtml;\n",
              "        element.appendChild(docLink);\n",
              "      }\n",
              "    </script>\n",
              "  </div>\n",
              "\n",
              "\n",
              "<div id=\"df-dc93f5dc-9157-45cd-a1c8-00949bb218dd\">\n",
              "  <button class=\"colab-df-quickchart\" onclick=\"quickchart('df-dc93f5dc-9157-45cd-a1c8-00949bb218dd')\"\n",
              "            title=\"Suggest charts.\"\n",
              "            style=\"display:none;\">\n",
              "\n",
              "<svg xmlns=\"http://www.w3.org/2000/svg\" height=\"24px\"viewBox=\"0 0 24 24\"\n",
              "     width=\"24px\">\n",
              "    <g>\n",
              "        <path d=\"M19 3H5c-1.1 0-2 .9-2 2v14c0 1.1.9 2 2 2h14c1.1 0 2-.9 2-2V5c0-1.1-.9-2-2-2zM9 17H7v-7h2v7zm4 0h-2V7h2v10zm4 0h-2v-4h2v4z\"/>\n",
              "    </g>\n",
              "</svg>\n",
              "  </button>\n",
              "\n",
              "<style>\n",
              "  .colab-df-quickchart {\n",
              "      --bg-color: #E8F0FE;\n",
              "      --fill-color: #1967D2;\n",
              "      --hover-bg-color: #E2EBFA;\n",
              "      --hover-fill-color: #174EA6;\n",
              "      --disabled-fill-color: #AAA;\n",
              "      --disabled-bg-color: #DDD;\n",
              "  }\n",
              "\n",
              "  [theme=dark] .colab-df-quickchart {\n",
              "      --bg-color: #3B4455;\n",
              "      --fill-color: #D2E3FC;\n",
              "      --hover-bg-color: #434B5C;\n",
              "      --hover-fill-color: #FFFFFF;\n",
              "      --disabled-bg-color: #3B4455;\n",
              "      --disabled-fill-color: #666;\n",
              "  }\n",
              "\n",
              "  .colab-df-quickchart {\n",
              "    background-color: var(--bg-color);\n",
              "    border: none;\n",
              "    border-radius: 50%;\n",
              "    cursor: pointer;\n",
              "    display: none;\n",
              "    fill: var(--fill-color);\n",
              "    height: 32px;\n",
              "    padding: 0;\n",
              "    width: 32px;\n",
              "  }\n",
              "\n",
              "  .colab-df-quickchart:hover {\n",
              "    background-color: var(--hover-bg-color);\n",
              "    box-shadow: 0 1px 2px rgba(60, 64, 67, 0.3), 0 1px 3px 1px rgba(60, 64, 67, 0.15);\n",
              "    fill: var(--button-hover-fill-color);\n",
              "  }\n",
              "\n",
              "  .colab-df-quickchart-complete:disabled,\n",
              "  .colab-df-quickchart-complete:disabled:hover {\n",
              "    background-color: var(--disabled-bg-color);\n",
              "    fill: var(--disabled-fill-color);\n",
              "    box-shadow: none;\n",
              "  }\n",
              "\n",
              "  .colab-df-spinner {\n",
              "    border: 2px solid var(--fill-color);\n",
              "    border-color: transparent;\n",
              "    border-bottom-color: var(--fill-color);\n",
              "    animation:\n",
              "      spin 1s steps(1) infinite;\n",
              "  }\n",
              "\n",
              "  @keyframes spin {\n",
              "    0% {\n",
              "      border-color: transparent;\n",
              "      border-bottom-color: var(--fill-color);\n",
              "      border-left-color: var(--fill-color);\n",
              "    }\n",
              "    20% {\n",
              "      border-color: transparent;\n",
              "      border-left-color: var(--fill-color);\n",
              "      border-top-color: var(--fill-color);\n",
              "    }\n",
              "    30% {\n",
              "      border-color: transparent;\n",
              "      border-left-color: var(--fill-color);\n",
              "      border-top-color: var(--fill-color);\n",
              "      border-right-color: var(--fill-color);\n",
              "    }\n",
              "    40% {\n",
              "      border-color: transparent;\n",
              "      border-right-color: var(--fill-color);\n",
              "      border-top-color: var(--fill-color);\n",
              "    }\n",
              "    60% {\n",
              "      border-color: transparent;\n",
              "      border-right-color: var(--fill-color);\n",
              "    }\n",
              "    80% {\n",
              "      border-color: transparent;\n",
              "      border-right-color: var(--fill-color);\n",
              "      border-bottom-color: var(--fill-color);\n",
              "    }\n",
              "    90% {\n",
              "      border-color: transparent;\n",
              "      border-bottom-color: var(--fill-color);\n",
              "    }\n",
              "  }\n",
              "</style>\n",
              "\n",
              "  <script>\n",
              "    async function quickchart(key) {\n",
              "      const quickchartButtonEl =\n",
              "        document.querySelector('#' + key + ' button');\n",
              "      quickchartButtonEl.disabled = true;  // To prevent multiple clicks.\n",
              "      quickchartButtonEl.classList.add('colab-df-spinner');\n",
              "      try {\n",
              "        const charts = await google.colab.kernel.invokeFunction(\n",
              "            'suggestCharts', [key], {});\n",
              "      } catch (error) {\n",
              "        console.error('Error during call to suggestCharts:', error);\n",
              "      }\n",
              "      quickchartButtonEl.classList.remove('colab-df-spinner');\n",
              "      quickchartButtonEl.classList.add('colab-df-quickchart-complete');\n",
              "    }\n",
              "    (() => {\n",
              "      let quickchartButtonEl =\n",
              "        document.querySelector('#df-dc93f5dc-9157-45cd-a1c8-00949bb218dd button');\n",
              "      quickchartButtonEl.style.display =\n",
              "        google.colab.kernel.accessAllowed ? 'block' : 'none';\n",
              "    })();\n",
              "  </script>\n",
              "</div>\n",
              "    </div>\n",
              "  </div>\n"
            ]
          },
          "metadata": {},
          "execution_count": 13
        }
      ]
    },
    {
      "cell_type": "markdown",
      "source": [
        "# Data Inspection and Cleaning"
      ],
      "metadata": {
        "id": "WVlc7qmp3C0O"
      }
    },
    {
      "cell_type": "code",
      "source": [
        "# Shape of the dataset\n",
        "df.shape"
      ],
      "metadata": {
        "colab": {
          "base_uri": "https://localhost:8080/"
        },
        "id": "JGmnijssqsHx",
        "outputId": "f91515b2-3308-4e8b-e9c6-3fe7772c775d"
      },
      "execution_count": 14,
      "outputs": [
        {
          "output_type": "execute_result",
          "data": {
            "text/plain": [
              "(5572, 2)"
            ]
          },
          "metadata": {},
          "execution_count": 14
        }
      ]
    },
    {
      "cell_type": "code",
      "source": [
        "# Info of the datset\n",
        "df.info()"
      ],
      "metadata": {
        "colab": {
          "base_uri": "https://localhost:8080/"
        },
        "id": "fCO13OZerJke",
        "outputId": "e826ae2f-c2fb-46e6-a101-680a2321b99f"
      },
      "execution_count": 15,
      "outputs": [
        {
          "output_type": "stream",
          "name": "stdout",
          "text": [
            "<class 'pandas.core.frame.DataFrame'>\n",
            "RangeIndex: 5572 entries, 0 to 5571\n",
            "Data columns (total 2 columns):\n",
            " #   Column    Non-Null Count  Dtype \n",
            "---  ------    --------------  ----- \n",
            " 0   Category  5572 non-null   int64 \n",
            " 1   Message   5572 non-null   object\n",
            "dtypes: int64(1), object(1)\n",
            "memory usage: 87.2+ KB\n"
          ]
        }
      ]
    },
    {
      "cell_type": "code",
      "source": [
        "# Checking for null values\n",
        "df.isnull().sum()\n",
        "\n"
      ],
      "metadata": {
        "colab": {
          "base_uri": "https://localhost:8080/"
        },
        "id": "-XFEFcshrJm4",
        "outputId": "e28e9c13-5eb0-4b85-8983-857907e73f6c"
      },
      "execution_count": 18,
      "outputs": [
        {
          "output_type": "execute_result",
          "data": {
            "text/plain": [
              "Category    0\n",
              "Message     0\n",
              "dtype: int64"
            ]
          },
          "metadata": {},
          "execution_count": 18
        }
      ]
    },
    {
      "cell_type": "code",
      "source": [
        "# Checking for duplicate values\n",
        "df.duplicated().sum()"
      ],
      "metadata": {
        "colab": {
          "base_uri": "https://localhost:8080/"
        },
        "id": "FFcgaJPlrVfa",
        "outputId": "24b1a031-8eb0-4814-b329-43cc74ee2d34"
      },
      "execution_count": 19,
      "outputs": [
        {
          "output_type": "execute_result",
          "data": {
            "text/plain": [
              "403"
            ]
          },
          "metadata": {},
          "execution_count": 19
        }
      ]
    },
    {
      "cell_type": "code",
      "source": [
        "# droping duplicates\n",
        "df = df.drop_duplicates(keep=\"first\")\n",
        "\n",
        "# Again checking for duplicate values\n",
        "df.duplicated().sum()"
      ],
      "metadata": {
        "colab": {
          "base_uri": "https://localhost:8080/"
        },
        "id": "cNDW3jN0rYXd",
        "outputId": "339fccb2-bcae-440c-88d7-2cd4f231c1a5"
      },
      "execution_count": 21,
      "outputs": [
        {
          "output_type": "execute_result",
          "data": {
            "text/plain": [
              "0"
            ]
          },
          "metadata": {},
          "execution_count": 21
        }
      ]
    },
    {
      "cell_type": "code",
      "source": [
        "# Again checing the shape  of the dataset\n",
        "df.shape"
      ],
      "metadata": {
        "colab": {
          "base_uri": "https://localhost:8080/"
        },
        "id": "UMF90qperbA9",
        "outputId": "a54e5e53-c173-47bf-ce7f-e71040f7b8b1"
      },
      "execution_count": 22,
      "outputs": [
        {
          "output_type": "execute_result",
          "data": {
            "text/plain": [
              "(5169, 2)"
            ]
          },
          "metadata": {},
          "execution_count": 22
        }
      ]
    },
    {
      "cell_type": "code",
      "source": [
        "# Ham(0) & Spam(1) counts\n",
        "df[\"Category\"].value_counts()\n"
      ],
      "metadata": {
        "colab": {
          "base_uri": "https://localhost:8080/"
        },
        "id": "5LPZKR13reph",
        "outputId": "c0df6ba3-aaf2-4311-e5b8-0f257b0895e3"
      },
      "execution_count": 23,
      "outputs": [
        {
          "output_type": "execute_result",
          "data": {
            "text/plain": [
              "0    4516\n",
              "1     653\n",
              "Name: Category, dtype: int64"
            ]
          },
          "metadata": {},
          "execution_count": 23
        }
      ]
    },
    {
      "cell_type": "markdown",
      "source": [
        "# Graphical Representation of Data"
      ],
      "metadata": {
        "id": "4uSDGXqd3Q8L"
      }
    },
    {
      "cell_type": "code",
      "source": [
        "class_counts = df['Category'].value_counts()\n",
        "colors = ['lightcoral', 'lightskyblue']  # Spam: lightcoral, Ham: lightskyblue\n",
        "plt.pie(class_counts, labels=['Spam', 'Ham'], autopct='%1.1f%%', startangle=90, pctdistance=0.85,\n",
        "        wedgeprops={'edgecolor': 'white'}, colors=colors)\n",
        "plt.gca().add_artist(plt.Circle((0,0),0.70,fc='white'))\n",
        "plt.title('Class Distribution (Spam vs. Ham)')\n",
        "plt.show()\n"
      ],
      "metadata": {
        "colab": {
          "base_uri": "https://localhost:8080/",
          "height": 428
        },
        "id": "vwCxlUB1ufTn",
        "outputId": "b45deafb-2ae5-4ffe-f3d3-e15a8685c6b8"
      },
      "execution_count": 37,
      "outputs": [
        {
          "output_type": "display_data",
          "data": {
            "text/plain": [
              "<Figure size 640x480 with 1 Axes>"
            ],
            "image/png": "[encoded data removed]"
          },
          "metadata": {}
        }
      ]
    },
    {
      "cell_type": "markdown",
      "source": [
        "# Class Distribution"
      ],
      "metadata": {
        "id": "MzPLoAHvuqhy"
      }
    },
    {
      "cell_type": "markdown",
      "source": [
        "\n",
        "\n",
        "This code generates a **Donut Chart** illustrating the class distribution between **\"Spam\" (lightcoral)** and **\"Ham\" (lightskyblue)** messages. The chart provides a clear visual representation of the dataset's composition, indicating that **spam constitutes 87.4%** and **ham accounts for 12.6%** of the total messages."
      ],
      "metadata": {
        "id": "UKVCS3smzfCF"
      }
    },
    {
      "cell_type": "markdown",
      "source": [
        "# Training Machine Learning Models"
      ],
      "metadata": {
        "id": "jkGWI3X73gZI"
      }
    },
    {
      "cell_type": "code",
      "source": [
        "x = df['Message']\n",
        "x"
      ],
      "metadata": {
        "colab": {
          "base_uri": "https://localhost:8080/"
        },
        "id": "LFomG-gwwFp2",
        "outputId": "09252ca2-06bb-4848-cbe8-6963702f0e89"
      },
      "execution_count": 43,
      "outputs": [
        {
          "output_type": "execute_result",
          "data": {
            "text/plain": [
              "0       Go until jurong point, crazy.. Available only ...\n",
              "1                           Ok lar... Joking wif u oni...\n",
              "2       Free entry in 2 a wkly comp to win FA Cup fina...\n",
              "3       U dun say so early hor... U c already then say...\n",
              "4       Nah I don't think he goes to usf, he lives aro...\n",
              "                              ...                        \n",
              "5567    This is the 2nd time we have tried 2 contact u...\n",
              "5568                Will Ì_ b going to esplanade fr home?\n",
              "5569    Pity, * was in mood for that. So...any other s...\n",
              "5570    The guy did some bitching but I acted like i'd...\n",
              "5571                           Rofl. Its true to its name\n",
              "Name: Message, Length: 5169, dtype: object"
            ]
          },
          "metadata": {},
          "execution_count": 43
        }
      ]
    },
    {
      "cell_type": "code",
      "source": [
        "y = df[\"Category\"]\n",
        "y"
      ],
      "metadata": {
        "colab": {
          "base_uri": "https://localhost:8080/"
        },
        "id": "575clJXswJ0Z",
        "outputId": "dcf4d388-4c4f-4127-d3f9-00f6a98a63b3"
      },
      "execution_count": 44,
      "outputs": [
        {
          "output_type": "execute_result",
          "data": {
            "text/plain": [
              "0       0\n",
              "1       0\n",
              "2       1\n",
              "3       0\n",
              "4       0\n",
              "       ..\n",
              "5567    1\n",
              "5568    0\n",
              "5569    0\n",
              "5570    0\n",
              "5571    0\n",
              "Name: Category, Length: 5169, dtype: int64"
            ]
          },
          "metadata": {},
          "execution_count": 44
        }
      ]
    },
    {
      "cell_type": "markdown",
      "source": [
        "# Word Cloud Visualization\n"
      ],
      "metadata": {
        "id": "PQ2fHhFFv9K8"
      }
    },
    {
      "cell_type": "code",
      "source": [
        "from wordcloud import WordCloud, STOPWORDS\n",
        "import matplotlib.pyplot as plt\n",
        "\n",
        "# Combine all messages into a single string\n",
        "comment_words = ' '.join(df.Message.dropna().astype(str))\n",
        "\n",
        "# Set stopwords\n",
        "stopwords = set(STOPWORDS)\n",
        "\n",
        "# Generate word cloud\n",
        "wordcloud = WordCloud(width=800, height=600,\n",
        "                      background_color='#f8f8ff',\n",
        "                      stopwords=stopwords,\n",
        "                      min_font_size=10).generate(comment_words)\n",
        "\n",
        "# Display the word cloud using matplotlib\n",
        "plt.figure(figsize=(8, 6), facecolor=None)\n",
        "plt.imshow(wordcloud)\n",
        "plt.axis(\"off\")\n",
        "plt.tight_layout(pad=0)\n",
        "plt.show()\n"
      ],
      "metadata": {
        "colab": {
          "base_uri": "https://localhost:8080/",
          "height": 636
        },
        "id": "OIjWC_psvtiM",
        "outputId": "bda7b157-c890-41ae-859d-357b27758c95"
      },
      "execution_count": 42,
      "outputs": [
        {
          "output_type": "display_data",
          "data": {
            "text/plain": [
              "<Figure size 800x600 with 1 Axes>"
            ],
            "image/png": "[encoded data removed]"
          },
          "metadata": {}
        }
      ]
    },
    {
      "cell_type": "markdown",
      "source": [
        "\n",
        "\n",
        "The Word Cloud Visualization presents the most frequent words in both \"Spam\" and \"Ham\" messages. By analyzing the size and prominence of words, it provides an intuitive view of the most common terms used in the dataset, aiding in understanding the content patterns of both spam and legitimate messages."
      ],
      "metadata": {
        "id": "Dom_BF5_y9G1"
      }
    },
    {
      "cell_type": "markdown",
      "source": [
        "# Train-Test Data Split"
      ],
      "metadata": {
        "id": "T-deQitT30YJ"
      }
    },
    {
      "cell_type": "code",
      "source": [
        "# Importing train test split library\n",
        "from sklearn.model_selection import train_test_split\n",
        "\n",
        "x_train, x_test, y_train, y_test = train_test_split(x, y, test_size = 0.2, random_state=42)"
      ],
      "metadata": {
        "id": "-C7jWDfowOzO"
      },
      "execution_count": 45,
      "outputs": []
    },
    {
      "cell_type": "markdown",
      "source": [
        "# Model Training Process"
      ],
      "metadata": {
        "id": "DaB2LTBY3_0c"
      }
    },
    {
      "cell_type": "code",
      "source": [
        "from sklearn.feature_extraction.text import CountVectorizer\n",
        "\n",
        "vectorizer = CountVectorizer()\n",
        "vectorizer.fit(x_train)\n",
        "\n",
        "X_train_cv = vectorizer.transform(x_train)\n",
        "X_test_cv = vectorizer.transform(x_test)"
      ],
      "metadata": {
        "id": "hlS15BaswTrF"
      },
      "execution_count": 47,
      "outputs": []
    },
    {
      "cell_type": "code",
      "source": [
        "from sklearn.linear_model import LogisticRegression\n",
        "from sklearn import metrics\n",
        "\n",
        "logreg = LogisticRegression()\n",
        "logreg.fit(X_train_cv, y_train)"
      ],
      "metadata": {
        "colab": {
          "base_uri": "https://localhost:8080/",
          "height": 74
        },
        "id": "WSTuD3t9wTuc",
        "outputId": "70337685-8833-4d7b-cc68-facfda22dd0d"
      },
      "execution_count": 48,
      "outputs": [
        {
          "output_type": "execute_result",
          "data": {
            "text/plain": [
              "LogisticRegression()"
            ],
            "text/html": [
              "<style>#sk-container-id-1 {color: black;background-color: white;}#sk-container-id-1 pre{padding: 0;}#sk-container-id-1 div.sk-toggleable {background-color: white;}#sk-container-id-1 label.sk-toggleable__label {cursor: pointer;display: block;width: 100%;margin-bottom: 0;padding: 0.3em;box-sizing: border-box;text-align: center;}#sk-container-id-1 label.sk-toggleable__label-arrow:before {content: \"▸\";float: left;margin-right: 0.25em;color: #696969;}#sk-container-id-1 label.sk-toggleable__label-arrow:hover:before {color: black;}#sk-container-id-1 div.sk-estimator:hover label.sk-toggleable__label-arrow:before {color: black;}#sk-container-id-1 div.sk-toggleable__content {max-height: 0;max-width: 0;overflow: hidden;text-align: left;background-color: #f0f8ff;}#sk-container-id-1 div.sk-toggleable__content pre {margin: 0.2em;color: black;border-radius: 0.25em;background-color: #f0f8ff;}#sk-container-id-1 input.sk-toggleable__control:checked~div.sk-toggleable__content {max-height: 200px;max-width: 100%;overflow: auto;}#sk-container-id-1 input.sk-toggleable__control:checked~label.sk-toggleable__label-arrow:before {content: \"▾\";}#sk-container-id-1 div.sk-estimator input.sk-toggleable__control:checked~label.sk-toggleable__label {background-color: #d4ebff;}#sk-container-id-1 div.sk-label input.sk-toggleable__control:checked~label.sk-toggleable__label {background-color: #d4ebff;}#sk-container-id-1 input.sk-hidden--visually {border: 0;clip: rect(1px 1px 1px 1px);clip: rect(1px, 1px, 1px, 1px);height: 1px;margin: -1px;overflow: hidden;padding: 0;position: absolute;width: 1px;}#sk-container-id-1 div.sk-estimator {font-family: monospace;background-color: #f0f8ff;border: 1px dotted black;border-radius: 0.25em;box-sizing: border-box;margin-bottom: 0.5em;}#sk-container-id-1 div.sk-estimator:hover {background-color: #d4ebff;}#sk-container-id-1 div.sk-parallel-item::after {content: \"\";width: 100%;border-bottom: 1px solid gray;flex-grow: 1;}#sk-container-id-1 div.sk-label:hover label.sk-toggleable__label {background-color: #d4ebff;}#sk-container-id-1 div.sk-serial::before {content: \"\";position: absolute;border-left: 1px solid gray;box-sizing: border-box;top: 0;bottom: 0;left: 50%;z-index: 0;}#sk-container-id-1 div.sk-serial {display: flex;flex-direction: column;align-items: center;background-color: white;padding-right: 0.2em;padding-left: 0.2em;position: relative;}#sk-container-id-1 div.sk-item {position: relative;z-index: 1;}#sk-container-id-1 div.sk-parallel {display: flex;align-items: stretch;justify-content: center;background-color: white;position: relative;}#sk-container-id-1 div.sk-item::before, #sk-container-id-1 div.sk-parallel-item::before {content: \"\";position: absolute;border-left: 1px solid gray;box-sizing: border-box;top: 0;bottom: 0;left: 50%;z-index: -1;}#sk-container-id-1 div.sk-parallel-item {display: flex;flex-direction: column;z-index: 1;position: relative;background-color: white;}#sk-container-id-1 div.sk-parallel-item:first-child::after {align-self: flex-end;width: 50%;}#sk-container-id-1 div.sk-parallel-item:last-child::after {align-self: flex-start;width: 50%;}#sk-container-id-1 div.sk-parallel-item:only-child::after {width: 0;}#sk-container-id-1 div.sk-dashed-wrapped {border: 1px dashed gray;margin: 0 0.4em 0.5em 0.4em;box-sizing: border-box;padding-bottom: 0.4em;background-color: white;}#sk-container-id-1 div.sk-label label {font-family: monospace;font-weight: bold;display: inline-block;line-height: 1.2em;}#sk-container-id-1 div.sk-label-container {text-align: center;}#sk-container-id-1 div.sk-container {/* jupyter's `normalize.less` sets `[hidden] { display: none; }` but bootstrap.min.css set `[hidden] { display: none !important; }` so we also need the `!important` here to be able to override the default hidden behavior on the sphinx rendered scikit-learn.org. See: https://github.com/scikit-learn/scikit-learn/issues/21755 */display: inline-block !important;position: relative;}#sk-container-id-1 div.sk-text-repr-fallback {display: none;}</style><div id=\"sk-container-id-1\" class=\"sk-top-container\"><div class=\"sk-text-repr-fallback\"><pre>LogisticRegression()</pre><b>In a Jupyter environment, please rerun this cell to show the HTML representation or trust the notebook. <br />On GitHub, the HTML representation is unable to render, please try loading this page with nbviewer.org.</b></div><div class=\"sk-container\" hidden><div class=\"sk-item\"><div class=\"sk-estimator sk-toggleable\"><input class=\"sk-toggleable__control sk-hidden--visually\" id=\"sk-estimator-id-1\" type=\"checkbox\" checked><label for=\"sk-estimator-id-1\" class=\"sk-toggleable__label sk-toggleable__label-arrow\">LogisticRegression</label><div class=\"sk-toggleable__content\"><pre>LogisticRegression()</pre></div></div></div></div></div>"
            ]
          },
          "metadata": {},
          "execution_count": 48
        }
      ]
    },
    {
      "cell_type": "markdown",
      "source": [
        "# Calculating Accuracy"
      ],
      "metadata": {
        "id": "qj9ucDlo4QsY"
      }
    },
    {
      "cell_type": "code",
      "source": [
        "y_pred = logreg.predict(X_test_cv)\n",
        "print('Accuracy of logistic regression classifier on test set: {:.2f}'.format(logreg.score(X_test_cv, y_test)))"
      ],
      "metadata": {
        "colab": {
          "base_uri": "https://localhost:8080/"
        },
        "id": "BOt24almwclD",
        "outputId": "fb2aa4b5-dbad-48c8-f5e1-e845e48f08b7"
      },
      "execution_count": 49,
      "outputs": [
        {
          "output_type": "stream",
          "name": "stdout",
          "text": [
            "Accuracy of logistic regression classifier on test set: 0.98\n"
          ]
        }
      ]
    },
    {
      "cell_type": "markdown",
      "source": [
        "In our analysis, the accuracy of the logistic regression classifier on the test set stands impressively high at 98%. This indicates that the model correctly predicts the class labels for 98 out of every 100 instances in the test data. Such a robust accuracy level underscores the effectiveness of our logistic regression model, affirming its reliability in making accurate predictions based on the provided test dataset."
      ],
      "metadata": {
        "id": "I3Erc5Bt5C91"
      }
    },
    {
      "cell_type": "markdown",
      "source": [
        "# Understanding Confusion Matrix"
      ],
      "metadata": {
        "id": "sBvyazTk4VN9"
      }
    },
    {
      "cell_type": "code",
      "source": [
        "from sklearn.metrics import confusion_matrix\n",
        "confusion_matrix = confusion_matrix(y_test, y_pred)\n",
        "print(confusion_matrix)"
      ],
      "metadata": {
        "colab": {
          "base_uri": "https://localhost:8080/"
        },
        "id": "InYiM9wkwq1V",
        "outputId": "2f49399e-26c0-4744-b82d-87b73aaeccfb"
      },
      "execution_count": 51,
      "outputs": [
        {
          "output_type": "stream",
          "name": "stdout",
          "text": [
            "[[885   4]\n",
            " [ 18 127]]\n"
          ]
        }
      ]
    },
    {
      "cell_type": "markdown",
      "source": [
        "The confusion matrix provides insights into our model's performance. It reveals 885 true negatives, 127 true positives, 4 false positives, and 18 false negatives. This breakdown is crucial for understanding where our model excels and areas needing improvement."
      ],
      "metadata": {
        "id": "sF2TrPUz5SPP"
      }
    },
    {
      "cell_type": "markdown",
      "source": [
        "# Interpreting Classification Report Results"
      ],
      "metadata": {
        "id": "O-82nGjt4ihg"
      }
    },
    {
      "cell_type": "code",
      "source": [
        "from sklearn.metrics import classification_report\n",
        "print(classification_report(y_test, y_pred))"
      ],
      "metadata": {
        "colab": {
          "base_uri": "https://localhost:8080/"
        },
        "id": "CQvCOPT6wqzY",
        "outputId": "383bcb42-6cb6-456e-eaff-58d4efe08893"
      },
      "execution_count": 50,
      "outputs": [
        {
          "output_type": "stream",
          "name": "stdout",
          "text": [
            "              precision    recall  f1-score   support\n",
            "\n",
            "           0       0.98      1.00      0.99       889\n",
            "           1       0.97      0.88      0.92       145\n",
            "\n",
            "    accuracy                           0.98      1034\n",
            "   macro avg       0.97      0.94      0.95      1034\n",
            "weighted avg       0.98      0.98      0.98      1034\n",
            "\n"
          ]
        }
      ]
    },
    {
      "cell_type": "code",
      "source": [
        "\n",
        "from sklearn.metrics import accuracy_score, precision_score, recall_score, f1_score\n",
        "accuracy = accuracy_score(y_test, y_pred)\n",
        "precision = precision_score(y_test, y_pred)\n",
        "recall = recall_score(y_test, y_pred)\n",
        "f1 = f1_score(y_test, y_pred)\n",
        "\n",
        "print(\"Accuracy:\", accuracy)\n",
        "print(\"Precision:\", precision)\n",
        "print(\"Recall:\", recall)\n",
        "print(\"F1 score:\", f1)"
      ],
      "metadata": {
        "colab": {
          "base_uri": "https://localhost:8080/"
        },
        "id": "B0KwHINPwq4y",
        "outputId": "bdb54c70-5f3c-4f04-fb12-292c6a118120"
      },
      "execution_count": 52,
      "outputs": [
        {
          "output_type": "stream",
          "name": "stdout",
          "text": [
            "Accuracy: 0.9787234042553191\n",
            "Precision: 0.9694656488549618\n",
            "Recall: 0.8758620689655172\n",
            "F1 score: 0.9202898550724637\n"
          ]
        }
      ]
    },
    {
      "cell_type": "markdown",
      "source": [
        "Summary:\n",
        "\n",
        "The model's performance metrics are impressive:\n",
        "\n",
        "- **Accuracy:** 97.9% - The model correctly predicts messages nearly 98% of the time.\n",
        "- **Precision:** 97.0% - Among the predicted spam messages, 97% were actually spam.\n",
        "- **Recall:** 87.6% - The model identified 87.6% of all actual spam messages.\n",
        "- **F1 Score:** 92.0% - The balance between precision and recall, indicating a robust model."
      ],
      "metadata": {
        "id": "62aziGO_ysOj"
      }
    },
    {
      "cell_type": "code",
      "source": [
        "# Importing MultinomialNB\n",
        "from sklearn.naive_bayes import MultinomialNB\n",
        "\n",
        "# Using MultinomialNB for prediction Custom words\n",
        "classifier = MultinomialNB()\n",
        "classifier.fit(X_train_cv, y_train)"
      ],
      "metadata": {
        "colab": {
          "base_uri": "https://localhost:8080/",
          "height": 74
        },
        "id": "zrnxqGq4w0-M",
        "outputId": "54b0a5a0-2d21-40d5-aa2a-bae7398ab91f"
      },
      "execution_count": 53,
      "outputs": [
        {
          "output_type": "execute_result",
          "data": {
            "text/plain": [
              "MultinomialNB()"
            ],
            "text/html": [
              "<style>#sk-container-id-2 {color: black;background-color: white;}#sk-container-id-2 pre{padding: 0;}#sk-container-id-2 div.sk-toggleable {background-color: white;}#sk-container-id-2 label.sk-toggleable__label {cursor: pointer;display: block;width: 100%;margin-bottom: 0;padding: 0.3em;box-sizing: border-box;text-align: center;}#sk-container-id-2 label.sk-toggleable__label-arrow:before {content: \"▸\";float: left;margin-right: 0.25em;color: #696969;}#sk-container-id-2 label.sk-toggleable__label-arrow:hover:before {color: black;}#sk-container-id-2 div.sk-estimator:hover label.sk-toggleable__label-arrow:before {color: black;}#sk-container-id-2 div.sk-toggleable__content {max-height: 0;max-width: 0;overflow: hidden;text-align: left;background-color: #f0f8ff;}#sk-container-id-2 div.sk-toggleable__content pre {margin: 0.2em;color: black;border-radius: 0.25em;background-color: #f0f8ff;}#sk-container-id-2 input.sk-toggleable__control:checked~div.sk-toggleable__content {max-height: 200px;max-width: 100%;overflow: auto;}#sk-container-id-2 input.sk-toggleable__control:checked~label.sk-toggleable__label-arrow:before {content: \"▾\";}#sk-container-id-2 div.sk-estimator input.sk-toggleable__control:checked~label.sk-toggleable__label {background-color: #d4ebff;}#sk-container-id-2 div.sk-label input.sk-toggleable__control:checked~label.sk-toggleable__label {background-color: #d4ebff;}#sk-container-id-2 input.sk-hidden--visually {border: 0;clip: rect(1px 1px 1px 1px);clip: rect(1px, 1px, 1px, 1px);height: 1px;margin: -1px;overflow: hidden;padding: 0;position: absolute;width: 1px;}#sk-container-id-2 div.sk-estimator {font-family: monospace;background-color: #f0f8ff;border: 1px dotted black;border-radius: 0.25em;box-sizing: border-box;margin-bottom: 0.5em;}#sk-container-id-2 div.sk-estimator:hover {background-color: #d4ebff;}#sk-container-id-2 div.sk-parallel-item::after {content: \"\";width: 100%;border-bottom: 1px solid gray;flex-grow: 1;}#sk-container-id-2 div.sk-label:hover label.sk-toggleable__label {background-color: #d4ebff;}#sk-container-id-2 div.sk-serial::before {content: \"\";position: absolute;border-left: 1px solid gray;box-sizing: border-box;top: 0;bottom: 0;left: 50%;z-index: 0;}#sk-container-id-2 div.sk-serial {display: flex;flex-direction: column;align-items: center;background-color: white;padding-right: 0.2em;padding-left: 0.2em;position: relative;}#sk-container-id-2 div.sk-item {position: relative;z-index: 1;}#sk-container-id-2 div.sk-parallel {display: flex;align-items: stretch;justify-content: center;background-color: white;position: relative;}#sk-container-id-2 div.sk-item::before, #sk-container-id-2 div.sk-parallel-item::before {content: \"\";position: absolute;border-left: 1px solid gray;box-sizing: border-box;top: 0;bottom: 0;left: 50%;z-index: -1;}#sk-container-id-2 div.sk-parallel-item {display: flex;flex-direction: column;z-index: 1;position: relative;background-color: white;}#sk-container-id-2 div.sk-parallel-item:first-child::after {align-self: flex-end;width: 50%;}#sk-container-id-2 div.sk-parallel-item:last-child::after {align-self: flex-start;width: 50%;}#sk-container-id-2 div.sk-parallel-item:only-child::after {width: 0;}#sk-container-id-2 div.sk-dashed-wrapped {border: 1px dashed gray;margin: 0 0.4em 0.5em 0.4em;box-sizing: border-box;padding-bottom: 0.4em;background-color: white;}#sk-container-id-2 div.sk-label label {font-family: monospace;font-weight: bold;display: inline-block;line-height: 1.2em;}#sk-container-id-2 div.sk-label-container {text-align: center;}#sk-container-id-2 div.sk-container {/* jupyter's `normalize.less` sets `[hidden] { display: none; }` but bootstrap.min.css set `[hidden] { display: none !important; }` so we also need the `!important` here to be able to override the default hidden behavior on the sphinx rendered scikit-learn.org. See: https://github.com/scikit-learn/scikit-learn/issues/21755 */display: inline-block !important;position: relative;}#sk-container-id-2 div.sk-text-repr-fallback {display: none;}</style><div id=\"sk-container-id-2\" class=\"sk-top-container\"><div class=\"sk-text-repr-fallback\"><pre>MultinomialNB()</pre><b>In a Jupyter environment, please rerun this cell to show the HTML representation or trust the notebook. <br />On GitHub, the HTML representation is unable to render, please try loading this page with nbviewer.org.</b></div><div class=\"sk-container\" hidden><div class=\"sk-item\"><div class=\"sk-estimator sk-toggleable\"><input class=\"sk-toggleable__control sk-hidden--visually\" id=\"sk-estimator-id-2\" type=\"checkbox\" checked><label for=\"sk-estimator-id-2\" class=\"sk-toggleable__label sk-toggleable__label-arrow\">MultinomialNB</label><div class=\"sk-toggleable__content\"><pre>MultinomialNB()</pre></div></div></div></div></div>"
            ]
          },
          "metadata": {},
          "execution_count": 53
        }
      ]
    },
    {
      "cell_type": "markdown",
      "source": [
        "# Prediction of Custom Word / Predict which word is \"spam\" or \"ham\"\n",
        "\n"
      ],
      "metadata": {
        "id": "rRBrY5rt5zWO"
      }
    },
    {
      "cell_type": "code",
      "source": [
        "def predict_custom_word(custom_word, vectorizer, classifier):\n",
        "    custom_word_vec = vectorizer.transform([custom_word])\n",
        "    prediction = classifier.predict(custom_word_vec)[0]\n",
        "\n",
        "    if prediction == 1:\n",
        "        prediction_label = \"Spam\"\n",
        "    else:\n",
        "        prediction_label = \"Ham\"\n",
        "\n",
        "    return prediction_label\n",
        "\n",
        "# Example usage:\n",
        "custom_word = \"Offer for Internship\"\n",
        "prediction = predict_custom_word(custom_word, vectorizer, classifier)\n",
        "print(f\"Custom word '{custom_word}' is predicted as: {prediction}\")\n"
      ],
      "metadata": {
        "colab": {
          "base_uri": "https://localhost:8080/"
        },
        "id": "tq12L6wNw-S2",
        "outputId": "53784866-ec3a-4951-e57d-28686eb53567"
      },
      "execution_count": 57,
      "outputs": [
        {
          "output_type": "stream",
          "name": "stdout",
          "text": [
            "Custom word 'Offer for Internship' is predicted as: Spam\n"
          ]
        }
      ]
    },
    {
      "cell_type": "markdown",
      "source": [
        "\n",
        "Result:\n",
        "\n",
        "The custom word \"Offer for internship\" was classified as \"Spam\" by the trained model, indicating that it's likely a spam message."
      ],
      "metadata": {
        "id": "1Q7QlSUexzjy"
      }
    },
    {
      "cell_type": "markdown",
      "source": [
        "-----\n",
        "# Conclusion\n",
        "\n",
        "This project utilized the SMS Spam Collection dataset to build an effective spam detection system. Leveraging Count Vectorizer and Logistic Regression, the model demonstrated accurate classification. With the MultinomialNB algorithm, it successfully predicted custom words. This project showcases the efficiency of natural language processing and machine learning in real-world applications, emphasizing the importance of data analysis and model training in spam detection.\n",
        "\n",
        "---"
      ],
      "metadata": {
        "id": "07kT-7PsxlVZ"
      }
    },
    {
      "cell_type": "markdown",
      "source": [
        "**Thank** **You**\n",
        "\n",
        "I would like to express my gratitude to OASIS INFOBYTE team for the opportunity to work on this project. Special thanks to the mentors and the team for their guidance and support throughout. This experience has been invaluable, enhancing my skills and understanding in the realm of data science and machine learning. I look forward to applying this knowledge in future endeavors. Thank you for the enriching learning experience.\n",
        "\n",
        "\n",
        "\n",
        "-----"
      ],
      "metadata": {
        "id": "DZNIhACWyTZO"
      }
    }
  ]
}